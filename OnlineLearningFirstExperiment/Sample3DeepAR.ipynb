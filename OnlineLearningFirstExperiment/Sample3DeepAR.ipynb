{
 "cells": [
  {
   "cell_type": "code",
   "execution_count": 59,
   "id": "73fad526",
   "metadata": {},
   "outputs": [],
   "source": [
    "import numpy as np\n",
    "import matplotlib.pyplot as plt\n",
    "import pandas as pd\n",
    "import torch"
   ]
  },
  {
   "cell_type": "code",
   "execution_count": 60,
   "id": "56fe1f19",
   "metadata": {},
   "outputs": [],
   "source": [
    "from pytorch_forecasting.data import TimeSeriesDataSet\n",
    "from pytorch_forecasting.optim import Optimizer\n",
    "from pytorch_forecasting.models import DeepAR\n",
    "from pytorch_forecasting.data.encoders import NaNLabelEncoder\n",
    "from pytorch_forecasting.metrics import SMAPE,RMSE,MultivariateNormalDistributionLoss,NormalDistributionLoss\n",
    "from pytorch_forecasting.data.encoders import TorchNormalizer,EncoderNormalizer\n",
    "from torch.distributions.transformed_distribution import TransformedDistribution"
   ]
  },
  {
   "cell_type": "code",
   "execution_count": 61,
   "id": "9d82c1bb",
   "metadata": {
    "scrolled": false
   },
   "outputs": [
    {
     "name": "stderr",
     "output_type": "stream",
     "text": [
      "/tmp/ipykernel_473377/3754245401.py:11: FutureWarning: Series.dt.weekofyear and Series.dt.week have been deprecated. Please use Series.dt.isocalendar().week instead.\n",
      "  data[\"week_of_year\"] = data.datetime.dt.weekofyear.astype(str).astype(\"category\")  # categories have be strings\n"
     ]
    },
    {
     "data": {
      "text/html": [
       "<div>\n",
       "<style scoped>\n",
       "    .dataframe tbody tr th:only-of-type {\n",
       "        vertical-align: middle;\n",
       "    }\n",
       "\n",
       "    .dataframe tbody tr th {\n",
       "        vertical-align: top;\n",
       "    }\n",
       "\n",
       "    .dataframe thead th {\n",
       "        text-align: right;\n",
       "    }\n",
       "</style>\n",
       "<table border=\"1\" class=\"dataframe\">\n",
       "  <thead>\n",
       "    <tr style=\"text-align: right;\">\n",
       "      <th></th>\n",
       "      <th>datetime</th>\n",
       "      <th>value</th>\n",
       "      <th>group_ids</th>\n",
       "      <th>time_idx</th>\n",
       "      <th>day_of_week</th>\n",
       "      <th>week_of_year</th>\n",
       "      <th>month</th>\n",
       "      <th>time</th>\n",
       "    </tr>\n",
       "  </thead>\n",
       "  <tbody>\n",
       "    <tr>\n",
       "      <th>0</th>\n",
       "      <td>2018-07-25 00:00:00</td>\n",
       "      <td>0.220168</td>\n",
       "      <td>0</td>\n",
       "      <td>0</td>\n",
       "      <td>2</td>\n",
       "      <td>30</td>\n",
       "      <td>7</td>\n",
       "      <td>0</td>\n",
       "    </tr>\n",
       "    <tr>\n",
       "      <th>1</th>\n",
       "      <td>2018-07-25 00:01:00</td>\n",
       "      <td>0.221584</td>\n",
       "      <td>0</td>\n",
       "      <td>1</td>\n",
       "      <td>2</td>\n",
       "      <td>30</td>\n",
       "      <td>7</td>\n",
       "      <td>1</td>\n",
       "    </tr>\n",
       "    <tr>\n",
       "      <th>2</th>\n",
       "      <td>2018-07-25 00:02:00</td>\n",
       "      <td>0.205680</td>\n",
       "      <td>0</td>\n",
       "      <td>2</td>\n",
       "      <td>2</td>\n",
       "      <td>30</td>\n",
       "      <td>7</td>\n",
       "      <td>2</td>\n",
       "    </tr>\n",
       "    <tr>\n",
       "      <th>3</th>\n",
       "      <td>2018-07-25 00:03:00</td>\n",
       "      <td>0.185184</td>\n",
       "      <td>0</td>\n",
       "      <td>3</td>\n",
       "      <td>2</td>\n",
       "      <td>30</td>\n",
       "      <td>7</td>\n",
       "      <td>3</td>\n",
       "    </tr>\n",
       "    <tr>\n",
       "      <th>4</th>\n",
       "      <td>2018-07-25 00:04:00</td>\n",
       "      <td>0.173464</td>\n",
       "      <td>0</td>\n",
       "      <td>4</td>\n",
       "      <td>2</td>\n",
       "      <td>30</td>\n",
       "      <td>7</td>\n",
       "      <td>4</td>\n",
       "    </tr>\n",
       "    <tr>\n",
       "      <th>...</th>\n",
       "      <td>...</td>\n",
       "      <td>...</td>\n",
       "      <td>...</td>\n",
       "      <td>...</td>\n",
       "      <td>...</td>\n",
       "      <td>...</td>\n",
       "      <td>...</td>\n",
       "      <td>...</td>\n",
       "    </tr>\n",
       "    <tr>\n",
       "      <th>38875</th>\n",
       "      <td>2018-08-20 23:55:00</td>\n",
       "      <td>0.166704</td>\n",
       "      <td>0</td>\n",
       "      <td>38875</td>\n",
       "      <td>0</td>\n",
       "      <td>34</td>\n",
       "      <td>8</td>\n",
       "      <td>1435</td>\n",
       "    </tr>\n",
       "    <tr>\n",
       "      <th>38876</th>\n",
       "      <td>2018-08-20 23:56:00</td>\n",
       "      <td>0.172936</td>\n",
       "      <td>0</td>\n",
       "      <td>38876</td>\n",
       "      <td>0</td>\n",
       "      <td>34</td>\n",
       "      <td>8</td>\n",
       "      <td>1436</td>\n",
       "    </tr>\n",
       "    <tr>\n",
       "      <th>38877</th>\n",
       "      <td>2018-08-20 23:57:00</td>\n",
       "      <td>0.172976</td>\n",
       "      <td>0</td>\n",
       "      <td>38877</td>\n",
       "      <td>0</td>\n",
       "      <td>34</td>\n",
       "      <td>8</td>\n",
       "      <td>1437</td>\n",
       "    </tr>\n",
       "    <tr>\n",
       "      <th>38878</th>\n",
       "      <td>2018-08-20 23:58:00</td>\n",
       "      <td>0.169264</td>\n",
       "      <td>0</td>\n",
       "      <td>38878</td>\n",
       "      <td>0</td>\n",
       "      <td>34</td>\n",
       "      <td>8</td>\n",
       "      <td>1438</td>\n",
       "    </tr>\n",
       "    <tr>\n",
       "      <th>38879</th>\n",
       "      <td>2018-08-20 23:59:00</td>\n",
       "      <td>0.175408</td>\n",
       "      <td>0</td>\n",
       "      <td>38879</td>\n",
       "      <td>0</td>\n",
       "      <td>34</td>\n",
       "      <td>8</td>\n",
       "      <td>1439</td>\n",
       "    </tr>\n",
       "  </tbody>\n",
       "</table>\n",
       "<p>38880 rows × 8 columns</p>\n",
       "</div>"
      ],
      "text/plain": [
       "                 datetime     value group_ids  time_idx day_of_week  \\\n",
       "0     2018-07-25 00:00:00  0.220168         0         0           2   \n",
       "1     2018-07-25 00:01:00  0.221584         0         1           2   \n",
       "2     2018-07-25 00:02:00  0.205680         0         2           2   \n",
       "3     2018-07-25 00:03:00  0.185184         0         3           2   \n",
       "4     2018-07-25 00:04:00  0.173464         0         4           2   \n",
       "...                   ...       ...       ...       ...         ...   \n",
       "38875 2018-08-20 23:55:00  0.166704         0     38875           0   \n",
       "38876 2018-08-20 23:56:00  0.172936         0     38876           0   \n",
       "38877 2018-08-20 23:57:00  0.172976         0     38877           0   \n",
       "38878 2018-08-20 23:58:00  0.169264         0     38878           0   \n",
       "38879 2018-08-20 23:59:00  0.175408         0     38879           0   \n",
       "\n",
       "      week_of_year month  time  \n",
       "0               30     7     0  \n",
       "1               30     7     1  \n",
       "2               30     7     2  \n",
       "3               30     7     3  \n",
       "4               30     7     4  \n",
       "...            ...   ...   ...  \n",
       "38875           34     8  1435  \n",
       "38876           34     8  1436  \n",
       "38877           34     8  1437  \n",
       "38878           34     8  1438  \n",
       "38879           34     8  1439  \n",
       "\n",
       "[38880 rows x 8 columns]"
      ]
     },
     "execution_count": 61,
     "metadata": {},
     "output_type": "execute_result"
    }
   ],
   "source": [
    "use_col = ['volumn','datetime']\n",
    "data = pd.read_csv('../traffic/data/3.csv',usecols=use_col)\n",
    "# data.rename({'service_name':'group_ids','datetime':'b','volumn':'value','packets':'c','unknown':'d'},axis=1,inplace=True)\n",
    "# data.drop(columns=['b','c','d'],inplace=True)\n",
    "data.rename({'volumn':'value'},axis=1,inplace=True)\n",
    "data['group_ids']=np.tile('0',len(data))\n",
    "data['time_idx']=np.arange(len(data))\n",
    "data['value'] = data['value'] * 8 / 1000000\n",
    "data['datetime'] = pd.to_datetime(data['datetime'])\n",
    "data[\"day_of_week\"] = data.datetime.dt.dayofweek.astype(str).astype(\"category\")\n",
    "data[\"week_of_year\"] = data.datetime.dt.weekofyear.astype(str).astype(\"category\")  # categories have be strings\n",
    "data[\"month\"] = data.datetime.dt.month.astype(str).astype(\"category\")  # categories have be strings\n",
    "data['time'] = np.tile(np.arange(1440),27) #1일이 1440으로 돼있으므로\n",
    "data['time'] = data['time'].astype(str).astype(\"category\") # numpy에 astype적용시 적용이 안된다\n",
    "data"
   ]
  },
  {
   "cell_type": "code",
   "execution_count": 62,
   "id": "96222deb",
   "metadata": {},
   "outputs": [
    {
     "data": {
      "text/plain": [
       "dtype('float64')"
      ]
     },
     "execution_count": 62,
     "metadata": {},
     "output_type": "execute_result"
    }
   ],
   "source": [
    "data['value'].dtype"
   ]
  },
  {
   "cell_type": "code",
   "execution_count": 63,
   "id": "5525ea85",
   "metadata": {
    "scrolled": true
   },
   "outputs": [
    {
     "data": {
      "text/plain": [
       "<AxesSubplot: >"
      ]
     },
     "execution_count": 63,
     "metadata": {},
     "output_type": "execute_result"
    },
    {
     "data": {
      "image/png": "[encoded data removed]",
      "text/plain": [
       "<Figure size 640x480 with 1 Axes>"
      ]
     },
     "metadata": {},
     "output_type": "display_data"
    }
   ],
   "source": [
    "data['value'].plot()"
   ]
  },
  {
   "cell_type": "code",
   "execution_count": 82,
   "id": "4efa8d1a",
   "metadata": {},
   "outputs": [],
   "source": [
    "Train_data = data.iloc[:28800]\n",
    "Test_data = data.iloc[28800:]"
   ]
  },
  {
   "cell_type": "code",
   "execution_count": 83,
   "id": "1583acfd",
   "metadata": {},
   "outputs": [],
   "source": [
    "encoder_length =1440\n",
    "prediction_length=10080 # encoding 기간은 1일 prediction 기간은 7일"
   ]
  },
  {
   "cell_type": "code",
   "execution_count": 84,
   "id": "64e18f95",
   "metadata": {},
   "outputs": [],
   "source": [
    "training = TimeSeriesDataSet(\n",
    "    data=Train_data,\n",
    "    max_encoder_length = encoder_length,\n",
    "    min_encoder_length=1,\n",
    "    max_prediction_length = prediction_length,\n",
    "    min_prediction_length=prediction_length,\n",
    "    target = 'value',\n",
    "    #target_normalizer= TorchNormalizer(method = 'identity',center = False), # explicitly disabling normalization will cause an unexpected error\n",
    "    group_ids = ['group_ids'],\n",
    "    time_idx = 'time_idx',\n",
    "    time_varying_known_categoricals=[\"week_of_year\", \"day_of_week\",\"month\",\"time\"],\n",
    "    #scalers = {'None':None},\n",
    "    time_varying_unknown_reals = ['value'],\n",
    "    time_varying_known_reals = ['time_idx'],\n",
    "    min_prediction_idx=0,\n",
    "    add_relative_time_idx = True,  # add as feature\n",
    "    add_target_scales = True,  # add as feature\n",
    "    add_encoder_length = True,  # add as feature\n",
    "    categorical_encoders={\n",
    "        'week_of_year':NaNLabelEncoder(add_nan=True),\n",
    "        'day_of_week':NaNLabelEncoder(add_nan=True),\n",
    "        'month':NaNLabelEncoder(add_nan=True),\n",
    "        'time':NaNLabelEncoder(add_nan=True)\n",
    "    }\n",
    "# NaNLableEncoder(add_nan=True)를 쓰지 않으면 새로운 categorical 변수에 대처 불가능\n",
    "# https://stackoverflow.com/questions/74621525/temporal-fusion-transformer\n",
    "# https://stackoverflow.com/questions/71098518/unknown-category-2-encountered-set-add-nan-true-to-allow-unknown-categories\n",
    ")"
   ]
  },
  {
   "cell_type": "code",
   "execution_count": 85,
   "id": "767eb8e7",
   "metadata": {},
   "outputs": [],
   "source": [
    "batch_size = 128\n",
    "train_dataloader = training.to_dataloader(train=True ,batch_size = batch_size,num_workers = 4)"
   ]
  },
  {
   "cell_type": "code",
   "execution_count": 86,
   "id": "41b7fd7f",
   "metadata": {},
   "outputs": [],
   "source": [
    "# temp2 = torch.FloatTensor()\n",
    "# for i in train_dataloader:\n",
    "#     i = list(i)\n",
    "#     temp1 = next(iter(train_dataloader))[1][0]+0.001\n",
    "#     temp2= torch.cat([temp2,temp1])\n",
    "#     i[1]=temp2\n",
    "#     i = tuple(i)\n",
    "    \n",
    "#     print(next(iter(train_dataloader)))\n"
   ]
  },
  {
   "cell_type": "code",
   "execution_count": 87,
   "id": "54c0e60d",
   "metadata": {
    "scrolled": true
   },
   "outputs": [],
   "source": [
    "# temp2 = torch.FloatTensor()\n",
    "# for i,j in train_dataloader:\n",
    "#     # 마지막 까지 배치를 다 만들면 처음으로(1번째 행으로) 돌아가서 배치를 다시 만든다 \n",
    "#     # 1번째행 0 0 0 0 0 ...\n",
    "#     # 1번째행 2번째행 0 0 0 0 ...\n",
    "#     # 1번째행 2번째행 3번째행 0 0 0 0...\n",
    "#     # 위와같은 식으로 만들어진다\n",
    "#     # temp = np.array(j[0].view(1,-1).squeeze(0))+0.001\n",
    "#     # temp = torch.FloatTensor(temp).view(batch_size,-1)\n",
    "#     temp1 = next(iter(train_dataloader))[1][0]+0.001\n",
    "#     temp2= torch.cat([temp2,temp1])\n",
    "\n",
    "# print(temp2)"
   ]
  },
  {
   "cell_type": "code",
   "execution_count": 88,
   "id": "6dbccf6e",
   "metadata": {
    "scrolled": true
   },
   "outputs": [],
   "source": [
    "# temp2= temp2.view(-1,batch_size,prediction_length)\n",
    "# temp2.size()"
   ]
  },
  {
   "cell_type": "code",
   "execution_count": 89,
   "id": "b8111314",
   "metadata": {},
   "outputs": [
    {
     "name": "stderr",
     "output_type": "stream",
     "text": [
      "/home/sjlee/sj_virtual/lib/python3.8/site-packages/pytorch_lightning/trainer/connectors/accelerator_connector.py:441: LightningDeprecationWarning: Setting `Trainer(gpus=[0])` is deprecated in v1.7 and will be removed in v2.0. Please use `Trainer(accelerator='gpu', devices=[0])` instead.\n",
      "  rank_zero_deprecation(\n",
      "GPU available: True (cuda), used: True\n",
      "TPU available: False, using: 0 TPU cores\n",
      "IPU available: False, using: 0 IPUs\n",
      "HPU available: False, using: 0 HPUs\n"
     ]
    }
   ],
   "source": [
    "from pytorch_lightning.callbacks import LearningRateFinder,EarlyStopping\n",
    "import pytorch_lightning as pl\n",
    "early_stopping = EarlyStopping(monitor = 'train_loss', min_delta = 1e-2,\n",
    "                               patience = 5, verbose = True, mode = \"min\")\n",
    "lr_find = LearningRateFinder(min_lr = 1e-10,\n",
    "                            max_lr = 1,early_stop_threshold=10)\n",
    "trainer = pl.Trainer(\n",
    "    gpus=[0],\n",
    "    gradient_clip_val=0.1,\n",
    "    max_epochs=30,\n",
    "    callbacks=[early_stopping,lr_find]\n",
    ")"
   ]
  },
  {
   "cell_type": "code",
   "execution_count": 90,
   "id": "fc294930",
   "metadata": {},
   "outputs": [
    {
     "name": "stderr",
     "output_type": "stream",
     "text": [
      "/home/sjlee/sj_virtual/lib/python3.8/site-packages/pytorch_lightning/utilities/parsing.py:262: UserWarning: Attribute 'loss' is an instance of `nn.Module` and is already saved during checkpointing. It is recommended to ignore them using `self.save_hyperparameters(ignore=['loss'])`.\n",
      "  rank_zero_warn(\n",
      "/home/sjlee/sj_virtual/lib/python3.8/site-packages/pytorch_lightning/utilities/parsing.py:262: UserWarning: Attribute 'logging_metrics' is an instance of `nn.Module` and is already saved during checkpointing. It is recommended to ignore them using `self.save_hyperparameters(ignore=['logging_metrics'])`.\n",
      "  rank_zero_warn(\n"
     ]
    }
   ],
   "source": [
    "net = DeepAR.from_dataset(training,\n",
    "                         rnn_layers = 2,\n",
    "                         hidden_size = 16,\n",
    "                         optimizer = 'adam',\n",
    "                         loss= NormalDistributionLoss() # --> MultivariateNormalDistributionLoss는 고정된 prediction length를 갖고 있어야됨\n",
    "                         )"
   ]
  },
  {
   "cell_type": "code",
   "execution_count": 91,
   "id": "1ea0a30b",
   "metadata": {
    "scrolled": true
   },
   "outputs": [
    {
     "data": {
      "text/plain": [
       "DeepAR(\n",
       "  \t\"categorical_groups\":                {}\n",
       "  \t\"cell_type\":                         LSTM\n",
       "  \t\"dropout\":                           0.1\n",
       "  \t\"embedding_labels\":                  {'week_of_year': {'nan': 0, '30': 1, '31': 2, '32': 3, '33': 4}, 'day_of_week': {'nan': 0, '0': 1, '1': 2, '2': 3, '3': 4, '4': 5, '5': 6, '6': 7}, 'month': {'nan': 0, '7': 1, '8': 2}, 'time': {'nan': 0, '0': 1, '1': 2, '10': 3, '100': 4, '1000': 5, '1001': 6, '1002': 7, '1003': 8, '1004': 9, '1005': 10, '1006': 11, '1007': 12, '1008': 13, '1009': 14, '101': 15, '1010': 16, '1011': 17, '1012': 18, '1013': 19, '1014': 20, '1015': 21, '1016': 22, '1017': 23, '1018': 24, '1019': 25, '102': 26, '1020': 27, '1021': 28, '1022': 29, '1023': 30, '1024': 31, '1025': 32, '1026': 33, '1027': 34, '1028': 35, '1029': 36, '103': 37, '1030': 38, '1031': 39, '1032': 40, '1033': 41, '1034': 42, '1035': 43, '1036': 44, '1037': 45, '1038': 46, '1039': 47, '104': 48, '1040': 49, '1041': 50, '1042': 51, '1043': 52, '1044': 53, '1045': 54, '1046': 55, '1047': 56, '1048': 57, '1049': 58, '105': 59, '1050': 60, '1051': 61, '1052': 62, '1053': 63, '1054': 64, '1055': 65, '1056': 66, '1057': 67, '1058': 68, '1059': 69, '106': 70, '1060': 71, '1061': 72, '1062': 73, '1063': 74, '1064': 75, '1065': 76, '1066': 77, '1067': 78, '1068': 79, '1069': 80, '107': 81, '1070': 82, '1071': 83, '1072': 84, '1073': 85, '1074': 86, '1075': 87, '1076': 88, '1077': 89, '1078': 90, '1079': 91, '108': 92, '1080': 93, '1081': 94, '1082': 95, '1083': 96, '1084': 97, '1085': 98, '1086': 99, '1087': 100, '1088': 101, '1089': 102, '109': 103, '1090': 104, '1091': 105, '1092': 106, '1093': 107, '1094': 108, '1095': 109, '1096': 110, '1097': 111, '1098': 112, '1099': 113, '11': 114, '110': 115, '1100': 116, '1101': 117, '1102': 118, '1103': 119, '1104': 120, '1105': 121, '1106': 122, '1107': 123, '1108': 124, '1109': 125, '111': 126, '1110': 127, '1111': 128, '1112': 129, '1113': 130, '1114': 131, '1115': 132, '1116': 133, '1117': 134, '1118': 135, '1119': 136, '112': 137, '1120': 138, '1121': 139, '1122': 140, '1123': 141, '1124': 142, '1125': 143, '1126': 144, '1127': 145, '1128': 146, '1129': 147, '113': 148, '1130': 149, '1131': 150, '1132': 151, '1133': 152, '1134': 153, '1135': 154, '1136': 155, '1137': 156, '1138': 157, '1139': 158, '114': 159, '1140': 160, '1141': 161, '1142': 162, '1143': 163, '1144': 164, '1145': 165, '1146': 166, '1147': 167, '1148': 168, '1149': 169, '115': 170, '1150': 171, '1151': 172, '1152': 173, '1153': 174, '1154': 175, '1155': 176, '1156': 177, '1157': 178, '1158': 179, '1159': 180, '116': 181, '1160': 182, '1161': 183, '1162': 184, '1163': 185, '1164': 186, '1165': 187, '1166': 188, '1167': 189, '1168': 190, '1169': 191, '117': 192, '1170': 193, '1171': 194, '1172': 195, '1173': 196, '1174': 197, '1175': 198, '1176': 199, '1177': 200, '1178': 201, '1179': 202, '118': 203, '1180': 204, '1181': 205, '1182': 206, '1183': 207, '1184': 208, '1185': 209, '1186': 210, '1187': 211, '1188': 212, '1189': 213, '119': 214, '1190': 215, '1191': 216, '1192': 217, '1193': 218, '1194': 219, '1195': 220, '1196': 221, '1197': 222, '1198': 223, '1199': 224, '12': 225, '120': 226, '1200': 227, '1201': 228, '1202': 229, '1203': 230, '1204': 231, '1205': 232, '1206': 233, '1207': 234, '1208': 235, '1209': 236, '121': 237, '1210': 238, '1211': 239, '1212': 240, '1213': 241, '1214': 242, '1215': 243, '1216': 244, '1217': 245, '1218': 246, '1219': 247, '122': 248, '1220': 249, '1221': 250, '1222': 251, '1223': 252, '1224': 253, '1225': 254, '1226': 255, '1227': 256, '1228': 257, '1229': 258, '123': 259, '1230': 260, '1231': 261, '1232': 262, '1233': 263, '1234': 264, '1235': 265, '1236': 266, '1237': 267, '1238': 268, '1239': 269, '124': 270, '1240': 271, '1241': 272, '1242': 273, '1243': 274, '1244': 275, '1245': 276, '1246': 277, '1247': 278, '1248': 279, '1249': 280, '125': 281, '1250': 282, '1251': 283, '1252': 284, '1253': 285, '1254': 286, '1255': 287, '1256': 288, '1257': 289, '1258': 290, '1259': 291, '126': 292, '1260': 293, '1261': 294, '1262': 295, '1263': 296, '1264': 297, '1265': 298, '1266': 299, '1267': 300, '1268': 301, '1269': 302, '127': 303, '1270': 304, '1271': 305, '1272': 306, '1273': 307, '1274': 308, '1275': 309, '1276': 310, '1277': 311, '1278': 312, '1279': 313, '128': 314, '1280': 315, '1281': 316, '1282': 317, '1283': 318, '1284': 319, '1285': 320, '1286': 321, '1287': 322, '1288': 323, '1289': 324, '129': 325, '1290': 326, '1291': 327, '1292': 328, '1293': 329, '1294': 330, '1295': 331, '1296': 332, '1297': 333, '1298': 334, '1299': 335, '13': 336, '130': 337, '1300': 338, '1301': 339, '1302': 340, '1303': 341, '1304': 342, '1305': 343, '1306': 344, '1307': 345, '1308': 346, '1309': 347, '131': 348, '1310': 349, '1311': 350, '1312': 351, '1313': 352, '1314': 353, '1315': 354, '1316': 355, '1317': 356, '1318': 357, '1319': 358, '132': 359, '1320': 360, '1321': 361, '1322': 362, '1323': 363, '1324': 364, '1325': 365, '1326': 366, '1327': 367, '1328': 368, '1329': 369, '133': 370, '1330': 371, '1331': 372, '1332': 373, '1333': 374, '1334': 375, '1335': 376, '1336': 377, '1337': 378, '1338': 379, '1339': 380, '134': 381, '1340': 382, '1341': 383, '1342': 384, '1343': 385, '1344': 386, '1345': 387, '1346': 388, '1347': 389, '1348': 390, '1349': 391, '135': 392, '1350': 393, '1351': 394, '1352': 395, '1353': 396, '1354': 397, '1355': 398, '1356': 399, '1357': 400, '1358': 401, '1359': 402, '136': 403, '1360': 404, '1361': 405, '1362': 406, '1363': 407, '1364': 408, '1365': 409, '1366': 410, '1367': 411, '1368': 412, '1369': 413, '137': 414, '1370': 415, '1371': 416, '1372': 417, '1373': 418, '1374': 419, '1375': 420, '1376': 421, '1377': 422, '1378': 423, '1379': 424, '138': 425, '1380': 426, '1381': 427, '1382': 428, '1383': 429, '1384': 430, '1385': 431, '1386': 432, '1387': 433, '1388': 434, '1389': 435, '139': 436, '1390': 437, '1391': 438, '1392': 439, '1393': 440, '1394': 441, '1395': 442, '1396': 443, '1397': 444, '1398': 445, '1399': 446, '14': 447, '140': 448, '1400': 449, '1401': 450, '1402': 451, '1403': 452, '1404': 453, '1405': 454, '1406': 455, '1407': 456, '1408': 457, '1409': 458, '141': 459, '1410': 460, '1411': 461, '1412': 462, '1413': 463, '1414': 464, '1415': 465, '1416': 466, '1417': 467, '1418': 468, '1419': 469, '142': 470, '1420': 471, '1421': 472, '1422': 473, '1423': 474, '1424': 475, '1425': 476, '1426': 477, '1427': 478, '1428': 479, '1429': 480, '143': 481, '1430': 482, '1431': 483, '1432': 484, '1433': 485, '1434': 486, '1435': 487, '1436': 488, '1437': 489, '1438': 490, '1439': 491, '144': 492, '145': 493, '146': 494, '147': 495, '148': 496, '149': 497, '15': 498, '150': 499, '151': 500, '152': 501, '153': 502, '154': 503, '155': 504, '156': 505, '157': 506, '158': 507, '159': 508, '16': 509, '160': 510, '161': 511, '162': 512, '163': 513, '164': 514, '165': 515, '166': 516, '167': 517, '168': 518, '169': 519, '17': 520, '170': 521, '171': 522, '172': 523, '173': 524, '174': 525, '175': 526, '176': 527, '177': 528, '178': 529, '179': 530, '18': 531, '180': 532, '181': 533, '182': 534, '183': 535, '184': 536, '185': 537, '186': 538, '187': 539, '188': 540, '189': 541, '19': 542, '190': 543, '191': 544, '192': 545, '193': 546, '194': 547, '195': 548, '196': 549, '197': 550, '198': 551, '199': 552, '2': 553, '20': 554, '200': 555, '201': 556, '202': 557, '203': 558, '204': 559, '205': 560, '206': 561, '207': 562, '208': 563, '209': 564, '21': 565, '210': 566, '211': 567, '212': 568, '213': 569, '214': 570, '215': 571, '216': 572, '217': 573, '218': 574, '219': 575, '22': 576, '220': 577, '221': 578, '222': 579, '223': 580, '224': 581, '225': 582, '226': 583, '227': 584, '228': 585, '229': 586, '23': 587, '230': 588, '231': 589, '232': 590, '233': 591, '234': 592, '235': 593, '236': 594, '237': 595, '238': 596, '239': 597, '24': 598, '240': 599, '241': 600, '242': 601, '243': 602, '244': 603, '245': 604, '246': 605, '247': 606, '248': 607, '249': 608, '25': 609, '250': 610, '251': 611, '252': 612, '253': 613, '254': 614, '255': 615, '256': 616, '257': 617, '258': 618, '259': 619, '26': 620, '260': 621, '261': 622, '262': 623, '263': 624, '264': 625, '265': 626, '266': 627, '267': 628, '268': 629, '269': 630, '27': 631, '270': 632, '271': 633, '272': 634, '273': 635, '274': 636, '275': 637, '276': 638, '277': 639, '278': 640, '279': 641, '28': 642, '280': 643, '281': 644, '282': 645, '283': 646, '284': 647, '285': 648, '286': 649, '287': 650, '288': 651, '289': 652, '29': 653, '290': 654, '291': 655, '292': 656, '293': 657, '294': 658, '295': 659, '296': 660, '297': 661, '298': 662, '299': 663, '3': 664, '30': 665, '300': 666, '301': 667, '302': 668, '303': 669, '304': 670, '305': 671, '306': 672, '307': 673, '308': 674, '309': 675, '31': 676, '310': 677, '311': 678, '312': 679, '313': 680, '314': 681, '315': 682, '316': 683, '317': 684, '318': 685, '319': 686, '32': 687, '320': 688, '321': 689, '322': 690, '323': 691, '324': 692, '325': 693, '326': 694, '327': 695, '328': 696, '329': 697, '33': 698, '330': 699, '331': 700, '332': 701, '333': 702, '334': 703, '335': 704, '336': 705, '337': 706, '338': 707, '339': 708, '34': 709, '340': 710, '341': 711, '342': 712, '343': 713, '344': 714, '345': 715, '346': 716, '347': 717, '348': 718, '349': 719, '35': 720, '350': 721, '351': 722, '352': 723, '353': 724, '354': 725, '355': 726, '356': 727, '357': 728, '358': 729, '359': 730, '36': 731, '360': 732, '361': 733, '362': 734, '363': 735, '364': 736, '365': 737, '366': 738, '367': 739, '368': 740, '369': 741, '37': 742, '370': 743, '371': 744, '372': 745, '373': 746, '374': 747, '375': 748, '376': 749, '377': 750, '378': 751, '379': 752, '38': 753, '380': 754, '381': 755, '382': 756, '383': 757, '384': 758, '385': 759, '386': 760, '387': 761, '388': 762, '389': 763, '39': 764, '390': 765, '391': 766, '392': 767, '393': 768, '394': 769, '395': 770, '396': 771, '397': 772, '398': 773, '399': 774, '4': 775, '40': 776, '400': 777, '401': 778, '402': 779, '403': 780, '404': 781, '405': 782, '406': 783, '407': 784, '408': 785, '409': 786, '41': 787, '410': 788, '411': 789, '412': 790, '413': 791, '414': 792, '415': 793, '416': 794, '417': 795, '418': 796, '419': 797, '42': 798, '420': 799, '421': 800, '422': 801, '423': 802, '424': 803, '425': 804, '426': 805, '427': 806, '428': 807, '429': 808, '43': 809, '430': 810, '431': 811, '432': 812, '433': 813, '434': 814, '435': 815, '436': 816, '437': 817, '438': 818, '439': 819, '44': 820, '440': 821, '441': 822, '442': 823, '443': 824, '444': 825, '445': 826, '446': 827, '447': 828, '448': 829, '449': 830, '45': 831, '450': 832, '451': 833, '452': 834, '453': 835, '454': 836, '455': 837, '456': 838, '457': 839, '458': 840, '459': 841, '46': 842, '460': 843, '461': 844, '462': 845, '463': 846, '464': 847, '465': 848, '466': 849, '467': 850, '468': 851, '469': 852, '47': 853, '470': 854, '471': 855, '472': 856, '473': 857, '474': 858, '475': 859, '476': 860, '477': 861, '478': 862, '479': 863, '48': 864, '480': 865, '481': 866, '482': 867, '483': 868, '484': 869, '485': 870, '486': 871, '487': 872, '488': 873, '489': 874, '49': 875, '490': 876, '491': 877, '492': 878, '493': 879, '494': 880, '495': 881, '496': 882, '497': 883, '498': 884, '499': 885, '5': 886, '50': 887, '500': 888, '501': 889, '502': 890, '503': 891, '504': 892, '505': 893, '506': 894, '507': 895, '508': 896, '509': 897, '51': 898, '510': 899, '511': 900, '512': 901, '513': 902, '514': 903, '515': 904, '516': 905, '517': 906, '518': 907, '519': 908, '52': 909, '520': 910, '521': 911, '522': 912, '523': 913, '524': 914, '525': 915, '526': 916, '527': 917, '528': 918, '529': 919, '53': 920, '530': 921, '531': 922, '532': 923, '533': 924, '534': 925, '535': 926, '536': 927, '537': 928, '538': 929, '539': 930, '54': 931, '540': 932, '541': 933, '542': 934, '543': 935, '544': 936, '545': 937, '546': 938, '547': 939, '548': 940, '549': 941, '55': 942, '550': 943, '551': 944, '552': 945, '553': 946, '554': 947, '555': 948, '556': 949, '557': 950, '558': 951, '559': 952, '56': 953, '560': 954, '561': 955, '562': 956, '563': 957, '564': 958, '565': 959, '566': 960, '567': 961, '568': 962, '569': 963, '57': 964, '570': 965, '571': 966, '572': 967, '573': 968, '574': 969, '575': 970, '576': 971, '577': 972, '578': 973, '579': 974, '58': 975, '580': 976, '581': 977, '582': 978, '583': 979, '584': 980, '585': 981, '586': 982, '587': 983, '588': 984, '589': 985, '59': 986, '590': 987, '591': 988, '592': 989, '593': 990, '594': 991, '595': 992, '596': 993, '597': 994, '598': 995, '599': 996, '6': 997, '60': 998, '600': 999, '601': 1000, '602': 1001, '603': 1002, '604': 1003, '605': 1004, '606': 1005, '607': 1006, '608': 1007, '609': 1008, '61': 1009, '610': 1010, '611': 1011, '612': 1012, '613': 1013, '614': 1014, '615': 1015, '616': 1016, '617': 1017, '618': 1018, '619': 1019, '62': 1020, '620': 1021, '621': 1022, '622': 1023, '623': 1024, '624': 1025, '625': 1026, '626': 1027, '627': 1028, '628': 1029, '629': 1030, '63': 1031, '630': 1032, '631': 1033, '632': 1034, '633': 1035, '634': 1036, '635': 1037, '636': 1038, '637': 1039, '638': 1040, '639': 1041, '64': 1042, '640': 1043, '641': 1044, '642': 1045, '643': 1046, '644': 1047, '645': 1048, '646': 1049, '647': 1050, '648': 1051, '649': 1052, '65': 1053, '650': 1054, '651': 1055, '652': 1056, '653': 1057, '654': 1058, '655': 1059, '656': 1060, '657': 1061, '658': 1062, '659': 1063, '66': 1064, '660': 1065, '661': 1066, '662': 1067, '663': 1068, '664': 1069, '665': 1070, '666': 1071, '667': 1072, '668': 1073, '669': 1074, '67': 1075, '670': 1076, '671': 1077, '672': 1078, '673': 1079, '674': 1080, '675': 1081, '676': 1082, '677': 1083, '678': 1084, '679': 1085, '68': 1086, '680': 1087, '681': 1088, '682': 1089, '683': 1090, '684': 1091, '685': 1092, '686': 1093, '687': 1094, '688': 1095, '689': 1096, '69': 1097, '690': 1098, '691': 1099, '692': 1100, '693': 1101, '694': 1102, '695': 1103, '696': 1104, '697': 1105, '698': 1106, '699': 1107, '7': 1108, '70': 1109, '700': 1110, '701': 1111, '702': 1112, '703': 1113, '704': 1114, '705': 1115, '706': 1116, '707': 1117, '708': 1118, '709': 1119, '71': 1120, '710': 1121, '711': 1122, '712': 1123, '713': 1124, '714': 1125, '715': 1126, '716': 1127, '717': 1128, '718': 1129, '719': 1130, '72': 1131, '720': 1132, '721': 1133, '722': 1134, '723': 1135, '724': 1136, '725': 1137, '726': 1138, '727': 1139, '728': 1140, '729': 1141, '73': 1142, '730': 1143, '731': 1144, '732': 1145, '733': 1146, '734': 1147, '735': 1148, '736': 1149, '737': 1150, '738': 1151, '739': 1152, '74': 1153, '740': 1154, '741': 1155, '742': 1156, '743': 1157, '744': 1158, '745': 1159, '746': 1160, '747': 1161, '748': 1162, '749': 1163, '75': 1164, '750': 1165, '751': 1166, '752': 1167, '753': 1168, '754': 1169, '755': 1170, '756': 1171, '757': 1172, '758': 1173, '759': 1174, '76': 1175, '760': 1176, '761': 1177, '762': 1178, '763': 1179, '764': 1180, '765': 1181, '766': 1182, '767': 1183, '768': 1184, '769': 1185, '77': 1186, '770': 1187, '771': 1188, '772': 1189, '773': 1190, '774': 1191, '775': 1192, '776': 1193, '777': 1194, '778': 1195, '779': 1196, '78': 1197, '780': 1198, '781': 1199, '782': 1200, '783': 1201, '784': 1202, '785': 1203, '786': 1204, '787': 1205, '788': 1206, '789': 1207, '79': 1208, '790': 1209, '791': 1210, '792': 1211, '793': 1212, '794': 1213, '795': 1214, '796': 1215, '797': 1216, '798': 1217, '799': 1218, '8': 1219, '80': 1220, '800': 1221, '801': 1222, '802': 1223, '803': 1224, '804': 1225, '805': 1226, '806': 1227, '807': 1228, '808': 1229, '809': 1230, '81': 1231, '810': 1232, '811': 1233, '812': 1234, '813': 1235, '814': 1236, '815': 1237, '816': 1238, '817': 1239, '818': 1240, '819': 1241, '82': 1242, '820': 1243, '821': 1244, '822': 1245, '823': 1246, '824': 1247, '825': 1248, '826': 1249, '827': 1250, '828': 1251, '829': 1252, '83': 1253, '830': 1254, '831': 1255, '832': 1256, '833': 1257, '834': 1258, '835': 1259, '836': 1260, '837': 1261, '838': 1262, '839': 1263, '84': 1264, '840': 1265, '841': 1266, '842': 1267, '843': 1268, '844': 1269, '845': 1270, '846': 1271, '847': 1272, '848': 1273, '849': 1274, '85': 1275, '850': 1276, '851': 1277, '852': 1278, '853': 1279, '854': 1280, '855': 1281, '856': 1282, '857': 1283, '858': 1284, '859': 1285, '86': 1286, '860': 1287, '861': 1288, '862': 1289, '863': 1290, '864': 1291, '865': 1292, '866': 1293, '867': 1294, '868': 1295, '869': 1296, '87': 1297, '870': 1298, '871': 1299, '872': 1300, '873': 1301, '874': 1302, '875': 1303, '876': 1304, '877': 1305, '878': 1306, '879': 1307, '88': 1308, '880': 1309, '881': 1310, '882': 1311, '883': 1312, '884': 1313, '885': 1314, '886': 1315, '887': 1316, '888': 1317, '889': 1318, '89': 1319, '890': 1320, '891': 1321, '892': 1322, '893': 1323, '894': 1324, '895': 1325, '896': 1326, '897': 1327, '898': 1328, '899': 1329, '9': 1330, '90': 1331, '900': 1332, '901': 1333, '902': 1334, '903': 1335, '904': 1336, '905': 1337, '906': 1338, '907': 1339, '908': 1340, '909': 1341, '91': 1342, '910': 1343, '911': 1344, '912': 1345, '913': 1346, '914': 1347, '915': 1348, '916': 1349, '917': 1350, '918': 1351, '919': 1352, '92': 1353, '920': 1354, '921': 1355, '922': 1356, '923': 1357, '924': 1358, '925': 1359, '926': 1360, '927': 1361, '928': 1362, '929': 1363, '93': 1364, '930': 1365, '931': 1366, '932': 1367, '933': 1368, '934': 1369, '935': 1370, '936': 1371, '937': 1372, '938': 1373, '939': 1374, '94': 1375, '940': 1376, '941': 1377, '942': 1378, '943': 1379, '944': 1380, '945': 1381, '946': 1382, '947': 1383, '948': 1384, '949': 1385, '95': 1386, '950': 1387, '951': 1388, '952': 1389, '953': 1390, '954': 1391, '955': 1392, '956': 1393, '957': 1394, '958': 1395, '959': 1396, '96': 1397, '960': 1398, '961': 1399, '962': 1400, '963': 1401, '964': 1402, '965': 1403, '966': 1404, '967': 1405, '968': 1406, '969': 1407, '97': 1408, '970': 1409, '971': 1410, '972': 1411, '973': 1412, '974': 1413, '975': 1414, '976': 1415, '977': 1416, '978': 1417, '979': 1418, '98': 1419, '980': 1420, '981': 1421, '982': 1422, '983': 1423, '984': 1424, '985': 1425, '986': 1426, '987': 1427, '988': 1428, '989': 1429, '99': 1430, '990': 1431, '991': 1432, '992': 1433, '993': 1434, '994': 1435, '995': 1436, '996': 1437, '997': 1438, '998': 1439, '999': 1440}}\n",
       "  \t\"embedding_paddings\":                ['week_of_year', 'day_of_week', 'month', 'time']\n",
       "  \t\"embedding_sizes\":                   {'week_of_year': (5, 4), 'day_of_week': (8, 5), 'month': (3, 3), 'time': (1441, 94)}\n",
       "  \t\"hidden_size\":                       16\n",
       "  \t\"learning_rate\":                     0.001\n",
       "  \t\"log_gradient_flow\":                 False\n",
       "  \t\"log_interval\":                      -1\n",
       "  \t\"log_val_interval\":                  -1\n",
       "  \t\"logging_metrics\":                   ModuleList(\n",
       "  \t  (0): SMAPE()\n",
       "  \t  (1): MAE()\n",
       "  \t  (2): RMSE()\n",
       "  \t  (3): MAPE()\n",
       "  \t  (4): MASE()\n",
       "  \t)\n",
       "  \t\"loss\":                              NormalDistributionLoss(quantiles=[0.02, 0.1, 0.25, 0.5, 0.75, 0.9, 0.98])\n",
       "  \t\"monotone_constaints\":               {}\n",
       "  \t\"n_plotting_samples\":                None\n",
       "  \t\"n_validation_samples\":              None\n",
       "  \t\"optimizer\":                         adam\n",
       "  \t\"optimizer_params\":                  None\n",
       "  \t\"output_transformer\":                GroupNormalizer(\n",
       "  \t\tmethod='standard',\n",
       "  \t\tgroups=[],\n",
       "  \t\tcenter=True,\n",
       "  \t\tscale_by_group=False,\n",
       "  \t\ttransformation='log',\n",
       "  \t\tmethod_kwargs={}\n",
       "  \t)\n",
       "  \t\"reduce_on_plateau_min_lr\":          1e-05\n",
       "  \t\"reduce_on_plateau_patience\":        1000\n",
       "  \t\"reduce_on_plateau_reduction\":       2.0\n",
       "  \t\"rnn_layers\":                        2\n",
       "  \t\"static_categoricals\":               []\n",
       "  \t\"static_reals\":                      ['encoder_length', 'value_center', 'value_scale']\n",
       "  \t\"target\":                            value\n",
       "  \t\"target_lags\":                       {}\n",
       "  \t\"time_varying_categoricals_decoder\": ['week_of_year', 'day_of_week', 'month', 'time']\n",
       "  \t\"time_varying_categoricals_encoder\": ['week_of_year', 'day_of_week', 'month', 'time']\n",
       "  \t\"time_varying_reals_decoder\":        ['time_idx', 'relative_time_idx']\n",
       "  \t\"time_varying_reals_encoder\":        ['time_idx', 'relative_time_idx', 'value']\n",
       "  \t\"weight_decay\":                      0.0\n",
       "  \t\"x_categoricals\":                    ['week_of_year', 'day_of_week', 'month', 'time']\n",
       "  \t\"x_reals\":                           ['encoder_length', 'value_center', 'value_scale', 'time_idx', 'relative_time_idx', 'value']\n",
       "  (loss): NormalDistributionLoss(quantiles=[0.02, 0.1, 0.25, 0.5, 0.75, 0.9, 0.98])\n",
       "  (logging_metrics): ModuleList(\n",
       "    (0): SMAPE()\n",
       "    (1): MAE()\n",
       "    (2): RMSE()\n",
       "    (3): MAPE()\n",
       "    (4): MASE()\n",
       "  )\n",
       "  (embeddings): MultiEmbedding(\n",
       "    (embeddings): ModuleDict(\n",
       "      (week_of_year): Embedding(5, 4, padding_idx=0)\n",
       "      (day_of_week): Embedding(8, 5, padding_idx=0)\n",
       "      (month): Embedding(3, 3, padding_idx=0)\n",
       "      (time): Embedding(1441, 94, padding_idx=0)\n",
       "    )\n",
       "  )\n",
       "  (rnn): LSTM(112, 16, num_layers=2, batch_first=True, dropout=0.1)\n",
       "  (distribution_projector): Linear(in_features=16, out_features=2, bias=True)\n",
       ")"
      ]
     },
     "execution_count": 91,
     "metadata": {},
     "output_type": "execute_result"
    }
   ],
   "source": [
    "import torch\n",
    "\n",
    "DEVICE = torch.device(\"cuda:0\")\n",
    "\n",
    "net.to(DEVICE)"
   ]
  },
  {
   "cell_type": "code",
   "execution_count": 92,
   "id": "962a721d",
   "metadata": {
    "scrolled": true
   },
   "outputs": [
    {
     "name": "stderr",
     "output_type": "stream",
     "text": [
      "/home/sjlee/sj_virtual/lib/python3.8/site-packages/pytorch_lightning/trainer/configuration_validator.py:108: PossibleUserWarning: You defined a `validation_step` but have no `val_dataloader`. Skipping val loop.\n",
      "  rank_zero_warn(\n",
      "LOCAL_RANK: 0 - CUDA_VISIBLE_DEVICES: [0]\n",
      "\n",
      "Finding best initial lr:   0%|          | 0/100 [00:00<?, ?it/s]\u001b[A\n",
      "Finding best initial lr:   1%|          | 1/100 [00:00<00:48,  2.03it/s]\u001b[A\n",
      "Finding best initial lr:   2%|▏         | 2/100 [00:00<00:47,  2.07it/s]\u001b[A\n",
      "`Trainer.fit` stopped: `max_steps=2` reached.\n",
      "LR finder stopped early after 2 steps due to diverging loss.\n",
      "Restoring states from the checkpoint path at /hdd_1/sjlee/Paper_Project/.lr_find_efa634de-8544-4925-a381-26a4ef161740.ckpt\n",
      "Restored all states from the checkpoint file at /hdd_1/sjlee/Paper_Project/.lr_find_efa634de-8544-4925-a381-26a4ef161740.ckpt\n",
      "\n",
      "  | Name                   | Type                   | Params\n",
      "------------------------------------------------------------------\n",
      "0 | loss                   | NormalDistributionLoss | 0     \n",
      "1 | logging_metrics        | ModuleList             | 0     \n",
      "2 | embeddings             | MultiEmbedding         | 135 K \n",
      "3 | rnn                    | LSTM                   | 10.5 K\n",
      "4 | distribution_projector | Linear                 | 34    \n",
      "------------------------------------------------------------------\n",
      "146 K     Trainable params\n",
      "0         Non-trainable params\n",
      "146 K     Total params\n",
      "0.584     Total estimated model params size (MB)\n"
     ]
    },
    {
     "name": "stdout",
     "output_type": "stream",
     "text": [
      "Epoch 0: 100%|██████████| 157/157 [01:14<00:00,  2.11it/s, loss=-2.66, v_num=90, train_loss_step=-2.68, train_loss_epoch=-1.34]"
     ]
    },
    {
     "name": "stderr",
     "output_type": "stream",
     "text": [
      "Metric train_loss improved. New best score: -2.128\n"
     ]
    },
    {
     "name": "stdout",
     "output_type": "stream",
     "text": [
      "Epoch 1:   0%|          | 0/157 [00:00<?, ?it/s, loss=-2.66, v_num=90, train_loss_step=-2.68, train_loss_epoch=-2.13]          "
     ]
    },
    {
     "name": "stderr",
     "output_type": "stream",
     "text": [
      "/home/sjlee/sj_virtual/lib/python3.8/site-packages/pytorch_lightning/loops/epoch/training_epoch_loop.py:447: RuntimeWarning: ReduceLROnPlateau conditioned on metric val_loss which is not available but strict is set to `False`. Skipping learning rate update.\n",
      "  rank_zero_warn(\n"
     ]
    },
    {
     "name": "stdout",
     "output_type": "stream",
     "text": [
      "Epoch 1: 100%|██████████| 157/157 [01:14<00:00,  2.11it/s, loss=-3.1, v_num=90, train_loss_step=-3.13, train_loss_epoch=-2.13] "
     ]
    },
    {
     "name": "stderr",
     "output_type": "stream",
     "text": [
      "Metric train_loss improved by 0.820 >= min_delta = 0.01. New best score: -2.948\n"
     ]
    },
    {
     "name": "stdout",
     "output_type": "stream",
     "text": [
      "Epoch 2: 100%|██████████| 157/157 [01:14<00:00,  2.11it/s, loss=-3.21, v_num=90, train_loss_step=-3.21, train_loss_epoch=-2.95]"
     ]
    },
    {
     "name": "stderr",
     "output_type": "stream",
     "text": [
      "Metric train_loss improved by 0.228 >= min_delta = 0.01. New best score: -3.176\n"
     ]
    },
    {
     "name": "stdout",
     "output_type": "stream",
     "text": [
      "Epoch 3: 100%|██████████| 157/157 [01:14<00:00,  2.11it/s, loss=-3.3, v_num=90, train_loss_step=-3.32, train_loss_epoch=-3.18] "
     ]
    },
    {
     "name": "stderr",
     "output_type": "stream",
     "text": [
      "Metric train_loss improved by 0.087 >= min_delta = 0.01. New best score: -3.262\n"
     ]
    },
    {
     "name": "stdout",
     "output_type": "stream",
     "text": [
      "Epoch 4: 100%|██████████| 157/157 [01:14<00:00,  2.10it/s, loss=-3.37, v_num=90, train_loss_step=-3.35, train_loss_epoch=-3.26]"
     ]
    },
    {
     "name": "stderr",
     "output_type": "stream",
     "text": [
      "Metric train_loss improved by 0.077 >= min_delta = 0.01. New best score: -3.339\n"
     ]
    },
    {
     "name": "stdout",
     "output_type": "stream",
     "text": [
      "Epoch 5: 100%|██████████| 157/157 [01:13<00:00,  2.13it/s, loss=-3.43, v_num=90, train_loss_step=-3.44, train_loss_epoch=-3.34]"
     ]
    },
    {
     "name": "stderr",
     "output_type": "stream",
     "text": [
      "Metric train_loss improved by 0.068 >= min_delta = 0.01. New best score: -3.406\n"
     ]
    },
    {
     "name": "stdout",
     "output_type": "stream",
     "text": [
      "Epoch 6: 100%|██████████| 157/157 [01:13<00:00,  2.13it/s, loss=-3.49, v_num=90, train_loss_step=-3.52, train_loss_epoch=-3.41]"
     ]
    },
    {
     "name": "stderr",
     "output_type": "stream",
     "text": [
      "Metric train_loss improved by 0.060 >= min_delta = 0.01. New best score: -3.467\n"
     ]
    },
    {
     "name": "stdout",
     "output_type": "stream",
     "text": [
      "Epoch 7: 100%|██████████| 157/157 [01:13<00:00,  2.12it/s, loss=-3.54, v_num=90, train_loss_step=-3.54, train_loss_epoch=-3.47]"
     ]
    },
    {
     "name": "stderr",
     "output_type": "stream",
     "text": [
      "Metric train_loss improved by 0.053 >= min_delta = 0.01. New best score: -3.519\n"
     ]
    },
    {
     "name": "stdout",
     "output_type": "stream",
     "text": [
      "Epoch 8: 100%|██████████| 157/157 [01:14<00:00,  2.12it/s, loss=-3.6, v_num=90, train_loss_step=-3.59, train_loss_epoch=-3.52] "
     ]
    },
    {
     "name": "stderr",
     "output_type": "stream",
     "text": [
      "Metric train_loss improved by 0.053 >= min_delta = 0.01. New best score: -3.573\n"
     ]
    },
    {
     "name": "stdout",
     "output_type": "stream",
     "text": [
      "Epoch 9: 100%|██████████| 157/157 [01:13<00:00,  2.13it/s, loss=-3.67, v_num=90, train_loss_step=-3.67, train_loss_epoch=-3.57]"
     ]
    },
    {
     "name": "stderr",
     "output_type": "stream",
     "text": [
      "Metric train_loss improved by 0.070 >= min_delta = 0.01. New best score: -3.642\n"
     ]
    },
    {
     "name": "stdout",
     "output_type": "stream",
     "text": [
      "Epoch 10: 100%|██████████| 157/157 [01:13<00:00,  2.13it/s, loss=-3.72, v_num=90, train_loss_step=-3.72, train_loss_epoch=-3.64]"
     ]
    },
    {
     "name": "stderr",
     "output_type": "stream",
     "text": [
      "Metric train_loss improved by 0.057 >= min_delta = 0.01. New best score: -3.700\n"
     ]
    },
    {
     "name": "stdout",
     "output_type": "stream",
     "text": [
      "Epoch 11: 100%|██████████| 157/157 [01:13<00:00,  2.13it/s, loss=-3.77, v_num=90, train_loss_step=-3.75, train_loss_epoch=-3.70]"
     ]
    },
    {
     "name": "stderr",
     "output_type": "stream",
     "text": [
      "Metric train_loss improved by 0.044 >= min_delta = 0.01. New best score: -3.744\n"
     ]
    },
    {
     "name": "stdout",
     "output_type": "stream",
     "text": [
      "Epoch 12: 100%|██████████| 157/157 [01:13<00:00,  2.13it/s, loss=-3.8, v_num=90, train_loss_step=-3.79, train_loss_epoch=-3.74] "
     ]
    },
    {
     "name": "stderr",
     "output_type": "stream",
     "text": [
      "Metric train_loss improved by 0.039 >= min_delta = 0.01. New best score: -3.784\n"
     ]
    },
    {
     "name": "stdout",
     "output_type": "stream",
     "text": [
      "Epoch 13: 100%|██████████| 157/157 [01:13<00:00,  2.14it/s, loss=-3.83, v_num=90, train_loss_step=-3.85, train_loss_epoch=-3.78]"
     ]
    },
    {
     "name": "stderr",
     "output_type": "stream",
     "text": [
      "Metric train_loss improved by 0.035 >= min_delta = 0.01. New best score: -3.818\n"
     ]
    },
    {
     "name": "stdout",
     "output_type": "stream",
     "text": [
      "Epoch 14: 100%|██████████| 157/157 [01:13<00:00,  2.13it/s, loss=-3.87, v_num=90, train_loss_step=-3.84, train_loss_epoch=-3.82]"
     ]
    },
    {
     "name": "stderr",
     "output_type": "stream",
     "text": [
      "Metric train_loss improved by 0.033 >= min_delta = 0.01. New best score: -3.851\n"
     ]
    },
    {
     "name": "stdout",
     "output_type": "stream",
     "text": [
      "Epoch 15: 100%|██████████| 157/157 [01:13<00:00,  2.13it/s, loss=-3.89, v_num=90, train_loss_step=-3.88, train_loss_epoch=-3.85]"
     ]
    },
    {
     "name": "stderr",
     "output_type": "stream",
     "text": [
      "Metric train_loss improved by 0.028 >= min_delta = 0.01. New best score: -3.878\n"
     ]
    },
    {
     "name": "stdout",
     "output_type": "stream",
     "text": [
      "Epoch 16: 100%|██████████| 157/157 [01:13<00:00,  2.13it/s, loss=-3.92, v_num=90, train_loss_step=-3.90, train_loss_epoch=-3.88]"
     ]
    },
    {
     "name": "stderr",
     "output_type": "stream",
     "text": [
      "Metric train_loss improved by 0.028 >= min_delta = 0.01. New best score: -3.907\n"
     ]
    },
    {
     "name": "stdout",
     "output_type": "stream",
     "text": [
      "Epoch 17: 100%|██████████| 157/157 [01:13<00:00,  2.13it/s, loss=-3.94, v_num=90, train_loss_step=-3.94, train_loss_epoch=-3.91]"
     ]
    },
    {
     "name": "stderr",
     "output_type": "stream",
     "text": [
      "Metric train_loss improved by 0.023 >= min_delta = 0.01. New best score: -3.929\n"
     ]
    },
    {
     "name": "stdout",
     "output_type": "stream",
     "text": [
      "Epoch 18: 100%|██████████| 157/157 [01:13<00:00,  2.14it/s, loss=-3.96, v_num=90, train_loss_step=-3.95, train_loss_epoch=-3.93]"
     ]
    },
    {
     "name": "stderr",
     "output_type": "stream",
     "text": [
      "Metric train_loss improved by 0.021 >= min_delta = 0.01. New best score: -3.950\n"
     ]
    },
    {
     "name": "stdout",
     "output_type": "stream",
     "text": [
      "Epoch 19: 100%|██████████| 157/157 [01:13<00:00,  2.13it/s, loss=-3.99, v_num=90, train_loss_step=-3.98, train_loss_epoch=-3.95]"
     ]
    },
    {
     "name": "stderr",
     "output_type": "stream",
     "text": [
      "Metric train_loss improved by 0.021 >= min_delta = 0.01. New best score: -3.971\n"
     ]
    },
    {
     "name": "stdout",
     "output_type": "stream",
     "text": [
      "Epoch 20: 100%|██████████| 157/157 [01:13<00:00,  2.13it/s, loss=-4, v_num=90, train_loss_step=-4.01, train_loss_epoch=-3.97]   "
     ]
    },
    {
     "name": "stderr",
     "output_type": "stream",
     "text": [
      "Metric train_loss improved by 0.018 >= min_delta = 0.01. New best score: -3.988\n"
     ]
    },
    {
     "name": "stdout",
     "output_type": "stream",
     "text": [
      "Epoch 21: 100%|██████████| 157/157 [01:13<00:00,  2.13it/s, loss=-4.01, v_num=90, train_loss_step=-4.03, train_loss_epoch=-3.99]"
     ]
    },
    {
     "name": "stderr",
     "output_type": "stream",
     "text": [
      "Metric train_loss improved by 0.018 >= min_delta = 0.01. New best score: -4.007\n"
     ]
    },
    {
     "name": "stdout",
     "output_type": "stream",
     "text": [
      "Epoch 22: 100%|██████████| 157/157 [01:13<00:00,  2.13it/s, loss=-4.03, v_num=90, train_loss_step=-4.04, train_loss_epoch=-4.01]"
     ]
    },
    {
     "name": "stderr",
     "output_type": "stream",
     "text": [
      "Metric train_loss improved by 0.016 >= min_delta = 0.01. New best score: -4.022\n"
     ]
    },
    {
     "name": "stdout",
     "output_type": "stream",
     "text": [
      "Epoch 23: 100%|██████████| 157/157 [01:13<00:00,  2.13it/s, loss=-4.05, v_num=90, train_loss_step=-4.04, train_loss_epoch=-4.02]"
     ]
    },
    {
     "name": "stderr",
     "output_type": "stream",
     "text": [
      "Metric train_loss improved by 0.016 >= min_delta = 0.01. New best score: -4.038\n"
     ]
    },
    {
     "name": "stdout",
     "output_type": "stream",
     "text": [
      "Epoch 24: 100%|██████████| 157/157 [01:13<00:00,  2.13it/s, loss=-4.06, v_num=90, train_loss_step=-4.06, train_loss_epoch=-4.04]"
     ]
    },
    {
     "name": "stderr",
     "output_type": "stream",
     "text": [
      "Metric train_loss improved by 0.015 >= min_delta = 0.01. New best score: -4.053\n"
     ]
    },
    {
     "name": "stdout",
     "output_type": "stream",
     "text": [
      "Epoch 25: 100%|██████████| 157/157 [01:13<00:00,  2.13it/s, loss=-4.08, v_num=90, train_loss_step=-4.10, train_loss_epoch=-4.05]"
     ]
    },
    {
     "name": "stderr",
     "output_type": "stream",
     "text": [
      "Metric train_loss improved by 0.014 >= min_delta = 0.01. New best score: -4.067\n"
     ]
    },
    {
     "name": "stdout",
     "output_type": "stream",
     "text": [
      "Epoch 26: 100%|██████████| 157/157 [01:13<00:00,  2.14it/s, loss=-4.09, v_num=90, train_loss_step=-4.12, train_loss_epoch=-4.07]"
     ]
    },
    {
     "name": "stderr",
     "output_type": "stream",
     "text": [
      "Metric train_loss improved by 0.013 >= min_delta = 0.01. New best score: -4.080\n"
     ]
    },
    {
     "name": "stdout",
     "output_type": "stream",
     "text": [
      "Epoch 27: 100%|██████████| 157/157 [01:13<00:00,  2.13it/s, loss=-4.11, v_num=90, train_loss_step=-4.14, train_loss_epoch=-4.08]"
     ]
    },
    {
     "name": "stderr",
     "output_type": "stream",
     "text": [
      "Metric train_loss improved by 0.013 >= min_delta = 0.01. New best score: -4.093\n"
     ]
    },
    {
     "name": "stdout",
     "output_type": "stream",
     "text": [
      "Epoch 28: 100%|██████████| 157/157 [01:13<00:00,  2.13it/s, loss=-4.11, v_num=90, train_loss_step=-4.13, train_loss_epoch=-4.09]"
     ]
    },
    {
     "name": "stderr",
     "output_type": "stream",
     "text": [
      "Metric train_loss improved by 0.012 >= min_delta = 0.01. New best score: -4.105\n"
     ]
    },
    {
     "name": "stdout",
     "output_type": "stream",
     "text": [
      "Epoch 29: 100%|██████████| 157/157 [01:14<00:00,  2.11it/s, loss=-4.12, v_num=90, train_loss_step=-4.11, train_loss_epoch=-4.11]"
     ]
    },
    {
     "name": "stderr",
     "output_type": "stream",
     "text": [
      "Metric train_loss improved by 0.013 >= min_delta = 0.01. New best score: -4.118\n"
     ]
    },
    {
     "name": "stdout",
     "output_type": "stream",
     "text": [
      "\r",
      "Epoch 29: 100%|██████████| 157/157 [01:14<00:00,  2.11it/s, loss=-4.12, v_num=90, train_loss_step=-4.11, train_loss_epoch=-4.12]"
     ]
    },
    {
     "name": "stderr",
     "output_type": "stream",
     "text": [
      "`Trainer.fit` stopped: `max_epochs=30` reached.\n"
     ]
    },
    {
     "name": "stdout",
     "output_type": "stream",
     "text": [
      "Epoch 29: 100%|██████████| 157/157 [01:14<00:00,  2.11it/s, loss=-4.12, v_num=90, train_loss_step=-4.11, train_loss_epoch=-4.12]\n"
     ]
    }
   ],
   "source": [
    "model=trainer.fit(net,train_dataloaders=train_dataloader)"
   ]
  },
  {
   "cell_type": "code",
   "execution_count": 93,
   "id": "428a33f3",
   "metadata": {},
   "outputs": [],
   "source": [
    "best_model_path = trainer.checkpoint_callback.best_model_path"
   ]
  },
  {
   "cell_type": "code",
   "execution_count": 94,
   "id": "568dd8ba",
   "metadata": {},
   "outputs": [
    {
     "name": "stderr",
     "output_type": "stream",
     "text": [
      "/home/sjlee/sj_virtual/lib/python3.8/site-packages/pytorch_lightning/utilities/parsing.py:262: UserWarning: Attribute 'loss' is an instance of `nn.Module` and is already saved during checkpointing. It is recommended to ignore them using `self.save_hyperparameters(ignore=['loss'])`.\n",
      "  rank_zero_warn(\n",
      "/home/sjlee/sj_virtual/lib/python3.8/site-packages/pytorch_lightning/utilities/parsing.py:262: UserWarning: Attribute 'logging_metrics' is an instance of `nn.Module` and is already saved during checkpointing. It is recommended to ignore them using `self.save_hyperparameters(ignore=['logging_metrics'])`.\n",
      "  rank_zero_warn(\n"
     ]
    }
   ],
   "source": [
    "best_model = DeepAR.load_from_checkpoint(best_model_path)"
   ]
  },
  {
   "cell_type": "code",
   "execution_count": 95,
   "id": "0fb5b4f1",
   "metadata": {},
   "outputs": [
    {
     "data": {
      "text/html": [
       "<div>\n",
       "<style scoped>\n",
       "    .dataframe tbody tr th:only-of-type {\n",
       "        vertical-align: middle;\n",
       "    }\n",
       "\n",
       "    .dataframe tbody tr th {\n",
       "        vertical-align: top;\n",
       "    }\n",
       "\n",
       "    .dataframe thead th {\n",
       "        text-align: right;\n",
       "    }\n",
       "</style>\n",
       "<table border=\"1\" class=\"dataframe\">\n",
       "  <thead>\n",
       "    <tr style=\"text-align: right;\">\n",
       "      <th></th>\n",
       "      <th>datetime</th>\n",
       "      <th>value</th>\n",
       "      <th>group_ids</th>\n",
       "      <th>time_idx</th>\n",
       "      <th>day_of_week</th>\n",
       "      <th>week_of_year</th>\n",
       "      <th>month</th>\n",
       "      <th>time</th>\n",
       "    </tr>\n",
       "  </thead>\n",
       "  <tbody>\n",
       "    <tr>\n",
       "      <th>28800</th>\n",
       "      <td>2018-08-14 00:00:00</td>\n",
       "      <td>0.173648</td>\n",
       "      <td>0</td>\n",
       "      <td>28800</td>\n",
       "      <td>1</td>\n",
       "      <td>33</td>\n",
       "      <td>8</td>\n",
       "      <td>0</td>\n",
       "    </tr>\n",
       "    <tr>\n",
       "      <th>28801</th>\n",
       "      <td>2018-08-14 00:01:00</td>\n",
       "      <td>0.173648</td>\n",
       "      <td>0</td>\n",
       "      <td>28801</td>\n",
       "      <td>1</td>\n",
       "      <td>33</td>\n",
       "      <td>8</td>\n",
       "      <td>1</td>\n",
       "    </tr>\n",
       "    <tr>\n",
       "      <th>28802</th>\n",
       "      <td>2018-08-14 00:02:00</td>\n",
       "      <td>0.173648</td>\n",
       "      <td>0</td>\n",
       "      <td>28802</td>\n",
       "      <td>1</td>\n",
       "      <td>33</td>\n",
       "      <td>8</td>\n",
       "      <td>2</td>\n",
       "    </tr>\n",
       "    <tr>\n",
       "      <th>28803</th>\n",
       "      <td>2018-08-14 00:03:00</td>\n",
       "      <td>0.173648</td>\n",
       "      <td>0</td>\n",
       "      <td>28803</td>\n",
       "      <td>1</td>\n",
       "      <td>33</td>\n",
       "      <td>8</td>\n",
       "      <td>3</td>\n",
       "    </tr>\n",
       "    <tr>\n",
       "      <th>28804</th>\n",
       "      <td>2018-08-14 00:04:00</td>\n",
       "      <td>0.173648</td>\n",
       "      <td>0</td>\n",
       "      <td>28804</td>\n",
       "      <td>1</td>\n",
       "      <td>33</td>\n",
       "      <td>8</td>\n",
       "      <td>4</td>\n",
       "    </tr>\n",
       "    <tr>\n",
       "      <th>...</th>\n",
       "      <td>...</td>\n",
       "      <td>...</td>\n",
       "      <td>...</td>\n",
       "      <td>...</td>\n",
       "      <td>...</td>\n",
       "      <td>...</td>\n",
       "      <td>...</td>\n",
       "      <td>...</td>\n",
       "    </tr>\n",
       "    <tr>\n",
       "      <th>38875</th>\n",
       "      <td>2018-08-20 23:55:00</td>\n",
       "      <td>0.173648</td>\n",
       "      <td>0</td>\n",
       "      <td>38875</td>\n",
       "      <td>0</td>\n",
       "      <td>34</td>\n",
       "      <td>8</td>\n",
       "      <td>1435</td>\n",
       "    </tr>\n",
       "    <tr>\n",
       "      <th>38876</th>\n",
       "      <td>2018-08-20 23:56:00</td>\n",
       "      <td>0.173648</td>\n",
       "      <td>0</td>\n",
       "      <td>38876</td>\n",
       "      <td>0</td>\n",
       "      <td>34</td>\n",
       "      <td>8</td>\n",
       "      <td>1436</td>\n",
       "    </tr>\n",
       "    <tr>\n",
       "      <th>38877</th>\n",
       "      <td>2018-08-20 23:57:00</td>\n",
       "      <td>0.173648</td>\n",
       "      <td>0</td>\n",
       "      <td>38877</td>\n",
       "      <td>0</td>\n",
       "      <td>34</td>\n",
       "      <td>8</td>\n",
       "      <td>1437</td>\n",
       "    </tr>\n",
       "    <tr>\n",
       "      <th>38878</th>\n",
       "      <td>2018-08-20 23:58:00</td>\n",
       "      <td>0.173648</td>\n",
       "      <td>0</td>\n",
       "      <td>38878</td>\n",
       "      <td>0</td>\n",
       "      <td>34</td>\n",
       "      <td>8</td>\n",
       "      <td>1438</td>\n",
       "    </tr>\n",
       "    <tr>\n",
       "      <th>38879</th>\n",
       "      <td>2018-08-20 23:59:00</td>\n",
       "      <td>0.173648</td>\n",
       "      <td>0</td>\n",
       "      <td>38879</td>\n",
       "      <td>0</td>\n",
       "      <td>34</td>\n",
       "      <td>8</td>\n",
       "      <td>1439</td>\n",
       "    </tr>\n",
       "  </tbody>\n",
       "</table>\n",
       "<p>10080 rows × 8 columns</p>\n",
       "</div>"
      ],
      "text/plain": [
       "                 datetime     value group_ids  time_idx day_of_week  \\\n",
       "28800 2018-08-14 00:00:00  0.173648         0     28800           1   \n",
       "28801 2018-08-14 00:01:00  0.173648         0     28801           1   \n",
       "28802 2018-08-14 00:02:00  0.173648         0     28802           1   \n",
       "28803 2018-08-14 00:03:00  0.173648         0     28803           1   \n",
       "28804 2018-08-14 00:04:00  0.173648         0     28804           1   \n",
       "...                   ...       ...       ...       ...         ...   \n",
       "38875 2018-08-20 23:55:00  0.173648         0     38875           0   \n",
       "38876 2018-08-20 23:56:00  0.173648         0     38876           0   \n",
       "38877 2018-08-20 23:57:00  0.173648         0     38877           0   \n",
       "38878 2018-08-20 23:58:00  0.173648         0     38878           0   \n",
       "38879 2018-08-20 23:59:00  0.173648         0     38879           0   \n",
       "\n",
       "      week_of_year month  time  \n",
       "28800           33     8     0  \n",
       "28801           33     8     1  \n",
       "28802           33     8     2  \n",
       "28803           33     8     3  \n",
       "28804           33     8     4  \n",
       "...            ...   ...   ...  \n",
       "38875           34     8  1435  \n",
       "38876           34     8  1436  \n",
       "38877           34     8  1437  \n",
       "38878           34     8  1438  \n",
       "38879           34     8  1439  \n",
       "\n",
       "[10080 rows x 8 columns]"
      ]
     },
     "execution_count": 95,
     "metadata": {},
     "output_type": "execute_result"
    }
   ],
   "source": [
    "new_encoder_data = Train_data.iloc[-encoder_length:]\n",
    "new_decoder_data = Test_data.copy()\n",
    "new_decoder_data['value'] = np.tile(new_encoder_data['value'].iloc[-1],len(new_decoder_data))\n",
    "new_decoder_data"
   ]
  },
  {
   "cell_type": "code",
   "execution_count": 96,
   "id": "8578122b",
   "metadata": {
    "scrolled": true
   },
   "outputs": [
    {
     "name": "stderr",
     "output_type": "stream",
     "text": [
      "/home/sjlee/sj_virtual/lib/python3.8/site-packages/pytorch_forecasting/data/encoders.py:317: UserWarning: Found 1 unknown classes which were set to NaN\n",
      "  warnings.warn(\n"
     ]
    }
   ],
   "source": [
    "new_prediction_data = pd.concat([new_encoder_data,new_decoder_data],ignore_index=True,axis=0)\n",
    "new_raw_pred=best_model.predict(new_prediction_data , mode='prediction',return_x=False)"
   ]
  },
  {
   "cell_type": "code",
   "execution_count": 97,
   "id": "b55ef1c7",
   "metadata": {},
   "outputs": [],
   "source": [
    "new_raw_pred=new_raw_pred"
   ]
  },
  {
   "cell_type": "code",
   "execution_count": 98,
   "id": "da78fcb1",
   "metadata": {},
   "outputs": [],
   "source": [
    "pred = np.array(new_raw_pred.view(-1))"
   ]
  },
  {
   "cell_type": "code",
   "execution_count": 99,
   "id": "a05e99e7",
   "metadata": {},
   "outputs": [
    {
     "data": {
      "text/plain": [
       "<matplotlib.legend.Legend at 0x7fd29082b760>"
      ]
     },
     "execution_count": 99,
     "metadata": {},
     "output_type": "execute_result"
    },
    {
     "data": {
      "image/png": "[encoded data removed]",
      "text/plain": [
       "<Figure size 1200x800 with 1 Axes>"
      ]
     },
     "metadata": {},
     "output_type": "display_data"
    }
   ],
   "source": [
    "fig,axes = plt.subplots(1,1,figsize=(12,8))\n",
    "axes.plot(np.arange(1,10081),Test_data['value'],label='real')\n",
    "axes.plot(np.arange(1,10081),pred,label='pred')\n",
    "plt.legend()"
   ]
  },
  {
   "cell_type": "code",
   "execution_count": 100,
   "id": "39c60bd8",
   "metadata": {},
   "outputs": [
    {
     "data": {
      "text/plain": [
       "array([0.22073407, 0.20581408, 0.18870549, ..., 0.18291716, 0.18130225,\n",
       "       0.18479584], dtype=float32)"
      ]
     },
     "execution_count": 100,
     "metadata": {},
     "output_type": "execute_result"
    }
   ],
   "source": [
    "pred"
   ]
  },
  {
   "cell_type": "code",
   "execution_count": 101,
   "id": "82e8405a",
   "metadata": {},
   "outputs": [
    {
     "data": {
      "text/plain": [
       "tensor([[0.2165, 0.1943, 0.1815,  ..., 0.1730, 0.1693, 0.1754]])"
      ]
     },
     "execution_count": 101,
     "metadata": {},
     "output_type": "execute_result"
    }
   ],
   "source": [
    "actuals= torch.FloatTensor(Test_data['value'].values).view(1,-1)\n",
    "actuals"
   ]
  },
  {
   "cell_type": "code",
   "execution_count": 103,
   "id": "e71cee58",
   "metadata": {},
   "outputs": [
    {
     "name": "stdout",
     "output_type": "stream",
     "text": [
      "smape 8.418978750705719 %\n",
      "rmse 0.01798628456890583\n"
     ]
    }
   ],
   "source": [
    "print('smape',SMAPE()(new_raw_pred,actuals).item()*100,'%')\n",
    "print('rmse',RMSE()(new_raw_pred,actuals).item())"
   ]
  },
  {
   "cell_type": "markdown",
   "id": "97387be9",
   "metadata": {},
   "source": [
    "https://pycj92.tistory.com/25<br>\n",
    "https://pytorch-forecasting.readthedocs.io/en/stable/tutorials/deepar.html"
   ]
  }
 ],
 "metadata": {
  "kernelspec": {
   "display_name": "sj_virtual",
   "language": "python",
   "name": "myvenv"
  },
  "language_info": {
   "codemirror_mode": {
    "name": "ipython",
    "version": 3
   },
   "file_extension": ".py",
   "mimetype": "text/x-python",
   "name": "python",
   "nbconvert_exporter": "python",
   "pygments_lexer": "ipython3",
   "version": "3.8.10"
  },
  "varInspector": {
   "cols": {
    "lenName": 16,
    "lenType": 16,
    "lenVar": 40
   },
   "kernels_config": {
    "python": {
     "delete_cmd_postfix": "",
     "delete_cmd_prefix": "del ",
     "library": "var_list.py",
     "varRefreshCmd": "print(var_dic_list())"
    },
    "r": {
     "delete_cmd_postfix": ") ",
     "delete_cmd_prefix": "rm(",
     "library": "var_list.r",
     "varRefreshCmd": "cat(var_dic_list()) "
    }
   },
   "types_to_exclude": [
    "module",
    "function",
    "builtin_function_or_method",
    "instance",
    "_Feature"
   ],
   "window_display": false
  }
 },
 "nbformat": 4,
 "nbformat_minor": 5
}
