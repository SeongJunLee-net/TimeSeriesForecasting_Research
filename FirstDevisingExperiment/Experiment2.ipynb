{
 "cells": [
  {
   "cell_type": "code",
   "execution_count": 1,
   "id": "441d7404",
   "metadata": {},
   "outputs": [
    {
     "name": "stderr",
     "output_type": "stream",
     "text": [
      "/home/sjlee/sj_virtual/lib/python3.8/site-packages/tqdm/auto.py:22: TqdmWarning: IProgress not found. Please update jupyter and ipywidgets. See https://ipywidgets.readthedocs.io/en/stable/user_install.html\n",
      "  from .autonotebook import tqdm as notebook_tqdm\n"
     ]
    }
   ],
   "source": [
    "import numpy as np\n",
    "import pandas as pd\n",
    "import matplotlib.pyplot as plt\n",
    "import seaborn as sns\n",
    "import torch\n",
    "import torch.nn as nn\n",
    "import random\n",
    "from torch.utils.data import TensorDataset\n",
    "from torch.utils.data import DataLoader\n",
    "from pytorch_forecasting.metrics import SMAPE\n",
    "from captum.attr import IntegratedGradients,NoiseTunnel"
   ]
  },
  {
   "cell_type": "markdown",
   "id": "e3bd78bf",
   "metadata": {},
   "source": [
    "## 1. 모델 구성하기"
   ]
  },
  {
   "cell_type": "code",
   "execution_count": 2,
   "id": "3078b5ca",
   "metadata": {},
   "outputs": [],
   "source": [
    "data = pd.read_csv('./TrafficData/4-Copy1.csv')\n",
    "data = data['volumn']\n",
    "sequence_length = 1440\n",
    "pred_len = 1"
   ]
  },
  {
   "cell_type": "code",
   "execution_count": 3,
   "id": "6feb01fe",
   "metadata": {},
   "outputs": [],
   "source": [
    "from torch import FloatTensor as FloatTensor"
   ]
  },
  {
   "cell_type": "code",
   "execution_count": 4,
   "id": "70efae60",
   "metadata": {},
   "outputs": [],
   "source": [
    "def seq_data(x,sequence_length,pred_len):\n",
    "    seq_list = []\n",
    "    target_list = []\n",
    "    device = torch.device(\"cuda:0\")\n",
    "    for i in range(len(x)-sequence_length-pred_len):\n",
    "        seq_list.append(x.iloc[i:i+sequence_length].values)\n",
    "        target_list.append(x.iloc[i+sequence_length:i+sequence_length+pred_len].values)\n",
    "\n",
    "    return FloatTensor(seq_list).view(-1,1,sequence_length).to(device),FloatTensor(target_list).unsqueeze(1).view(-1,1,pred_len).to(device)"
   ]
  },
  {
   "cell_type": "code",
   "execution_count": 5,
   "id": "39fb21cf",
   "metadata": {},
   "outputs": [
    {
     "name": "stderr",
     "output_type": "stream",
     "text": [
      "/tmp/ipykernel_2417094/4291513198.py:9: UserWarning: Creating a tensor from a list of numpy.ndarrays is extremely slow. Please consider converting the list to a single numpy.ndarray with numpy.array() before converting to a tensor. (Triggered internally at ../torch/csrc/utils/tensor_new.cpp:230.)\n",
      "  return FloatTensor(seq_list).view(-1,1,sequence_length).to(device),FloatTensor(target_list).unsqueeze(1).view(-1,1,pred_len).to(device)\n"
     ]
    }
   ],
   "source": [
    "split = 10080\n",
    "x_train,y_train = seq_data(data.iloc[:-split],sequence_length,pred_len)"
   ]
  },
  {
   "cell_type": "code",
   "execution_count": 6,
   "id": "4c989b22",
   "metadata": {},
   "outputs": [],
   "source": [
    "batch_size = 64\n",
    "train_dataset = TensorDataset(x_train,y_train)\n",
    "training = DataLoader(train_dataset,batch_size= batch_size)"
   ]
  },
  {
   "cell_type": "code",
   "execution_count": 7,
   "id": "673cbb2b",
   "metadata": {},
   "outputs": [],
   "source": [
    "seed = 42"
   ]
  },
  {
   "cell_type": "code",
   "execution_count": 8,
   "id": "925912dd",
   "metadata": {},
   "outputs": [],
   "source": [
    "device = torch.device(\"cuda:0\")"
   ]
  },
  {
   "cell_type": "code",
   "execution_count": 9,
   "id": "d420bbcd",
   "metadata": {},
   "outputs": [],
   "source": [
    "X_test = torch.FloatTensor(data.iloc[-split-sequence_length:-split].values).to(device)\n",
    "# X_train의 마지막 인덱스에서 sequece_length만큼 뒤에 부분을 잘라오기\n",
    "X_test = X_test.view(1,1,sequence_length)"
   ]
  },
  {
   "cell_type": "code",
   "execution_count": 10,
   "id": "b66a98ae",
   "metadata": {},
   "outputs": [
    {
     "data": {
      "text/plain": [
       "tensor([[90520.]])"
      ]
     },
     "execution_count": 10,
     "metadata": {},
     "output_type": "execute_result"
    }
   ],
   "source": [
    "target = data.iloc[-split]\n",
    "target = FloatTensor([target]).view(-1,1)\n",
    "target"
   ]
  },
  {
   "cell_type": "markdown",
   "id": "7aeecb63",
   "metadata": {},
   "source": [
    "## ISSUE\n",
    "### 1. loss를 Back ward시키기 전에 attribution=0로 수행을 해야하나?\n",
    "### 2. 모든 index를 추적하면서 관리를 해야하나?\n",
    "### 3. 앞으로 그 부분을 train 시키지 않기 위한 모델의 function을 만들어야 할듯\n",
    "&rightarrow; 아래의 reset함수를 수행하면 될 것이다."
   ]
  },
  {
   "cell_type": "markdown",
   "id": "1aacfe75",
   "metadata": {},
   "source": [
    "## 3번 문제에 대한 진행"
   ]
  },
  {
   "cell_type": "code",
   "execution_count": 11,
   "id": "007e189b",
   "metadata": {},
   "outputs": [],
   "source": [
    "A=torch.FloatTensor(np.arange(1440).reshape(-1,1))"
   ]
  },
  {
   "cell_type": "code",
   "execution_count": 12,
   "id": "b64a3818",
   "metadata": {},
   "outputs": [],
   "source": [
    "B=torch.ones([1440,1])"
   ]
  },
  {
   "cell_type": "code",
   "execution_count": 13,
   "id": "9ccb427e",
   "metadata": {},
   "outputs": [
    {
     "data": {
      "text/plain": [
       "tensor([[1.0000e+00],\n",
       "        [1.4390e+03]])"
      ]
     },
     "execution_count": 13,
     "metadata": {},
     "output_type": "execute_result"
    }
   ],
   "source": [
    "C=A*B\n",
    "C[[1,1439]] # Tensor도 Indexing 가능했음"
   ]
  },
  {
   "cell_type": "code",
   "execution_count": 14,
   "id": "bee6cd6a",
   "metadata": {},
   "outputs": [
    {
     "data": {
      "text/plain": [
       "tensor([[0.0000e+00],\n",
       "        [1.0000e+00],\n",
       "        [2.0000e+00],\n",
       "        ...,\n",
       "        [1.4370e+03],\n",
       "        [1.4380e+03],\n",
       "        [1.4390e+03]])"
      ]
     },
     "execution_count": 14,
     "metadata": {},
     "output_type": "execute_result"
    }
   ],
   "source": [
    "C"
   ]
  },
  {
   "cell_type": "code",
   "execution_count": 15,
   "id": "84db558f",
   "metadata": {},
   "outputs": [
    {
     "data": {
      "text/plain": [
       "tensor([[1., 1., 1.,  ..., 1., 1., 1.]])"
      ]
     },
     "execution_count": 15,
     "metadata": {},
     "output_type": "execute_result"
    }
   ],
   "source": [
    "torch.ones([1,1440])"
   ]
  },
  {
   "cell_type": "code",
   "execution_count": 16,
   "id": "99bf4919",
   "metadata": {
    "scrolled": true
   },
   "outputs": [
    {
     "data": {
      "text/plain": [
       "tensor([[101., 103.],\n",
       "        [201., 203.],\n",
       "        [301., 303.]])"
      ]
     },
     "execution_count": 16,
     "metadata": {},
     "output_type": "execute_result"
    }
   ],
   "source": [
    "A = torch.FloatTensor(np.arange(1000)).view(10,1,100)\n",
    "A[1:4,0,[1,3]] # Tensor Indexing : 만을 사용해서 범위 표시하고\n",
    "# 만약 A[[1,4],0,[1,3]] 으로 하면 element-wise하게 짝지어진다."
   ]
  },
  {
   "cell_type": "code",
   "execution_count": 17,
   "id": "66fffd25",
   "metadata": {
    "scrolled": true
   },
   "outputs": [
    {
     "data": {
      "text/plain": [
       "array([  0,  -1,   3,  -2,  -4,  -5,   6,   7,   8,   9,  10,  11,  12,\n",
       "        13,  14,  15,  16,  17,  18,  19,  20,  21,  22,  23,  24,  25,\n",
       "        26,  27,  28,  29,  30,  31,  32,  33,  34,  35,  36,  37,  38,\n",
       "        39,  40,  41,  42,  43,  44,  45,  46,  47,  48,  49,  50,  51,\n",
       "        52,  53,  54,  55,  56,  57,  58,  59,  60,  61,  62,  63,  64,\n",
       "        65,  66,  67,  68,  69,  70,  71,  72,  73,  74,  75,  76,  77,\n",
       "        78,  79,  80,  81,  82,  83,  84,  85,  86,  87,  88,  89,  90,\n",
       "        91,  92,  93,  94,  95,  96,  97,  98,  99, 100, 101, 102, 103,\n",
       "       104, 105, 106, 107, 108, 109, 110, 111, 112, 113, 114, 115, 116,\n",
       "       117, 118, 119, 120, 121, 122, 123, 124, 125, 126, 127, 128, 129,\n",
       "       130, 131, 132, 133, 134, 135, 136, 137, 138, 139, 140, 141, 142,\n",
       "       143, 144, 145, 146, 147, 148, 149, 150, 151, 152, 153, 154, 155,\n",
       "       156, 157, 158, 159, 160, 161, 162, 163, 164, 165, 166, 167, 168,\n",
       "       169, 170, 171, 172, 173, 174, 175, 176, 177, 178, 179, 180, 181,\n",
       "       182, 183, 184, 185, 186, 187, 188, 189, 190, 191, 192, 193, 194,\n",
       "       195, 196, 197, 198, 199, 200, 201, 202, 203, 204, 205, 206, 207,\n",
       "       208, 209, 210, 211, 212, 213, 214, 215, 216, 217, 218, 219, 220,\n",
       "       221, 222, 223, 224, 225, 226, 227, 228, 229, 230, 231, 232, 233,\n",
       "       234, 235, 236, 237, 238, 239, 240, 241, 242, 243, 244, 245, 246,\n",
       "       247, 248, 249, 250, 251, 252, 253, 254, 255, 256, 257, 258, 259,\n",
       "       260, 261, 262, 263, 264, 265, 266, 267, 268, 269, 270, 271, 272,\n",
       "       273, 274, 275, 276, 277, 278, 279, 280, 281, 282, 283, 284, 285,\n",
       "       286, 287, 288, 289, 290, 291, 292, 293, 294, 295, 296, 297, 298,\n",
       "       299, 300, 301, 302, 303, 304, 305, 306, 307, 308, 309, 310, 311,\n",
       "       312, 313, 314, 315, 316, 317, 318, 319, 320, 321, 322, 323, 324,\n",
       "       325, 326, 327, 328, 329, 330, 331, 332, 333, 334, 335, 336, 337,\n",
       "       338, 339, 340, 341, 342, 343, 344, 345, 346, 347, 348, 349, 350,\n",
       "       351, 352, 353, 354, 355, 356, 357, 358, 359, 360, 361, 362, 363,\n",
       "       364, 365, 366, 367, 368, 369, 370, 371, 372, 373, 374, 375, 376,\n",
       "       377, 378, 379, 380, 381, 382, 383, 384, 385, 386, 387, 388, 389,\n",
       "       390, 391, 392, 393, 394, 395, 396, 397, 398, 399, 400, 401, 402,\n",
       "       403, 404, 405, 406, 407, 408, 409, 410, 411, 412, 413, 414, 415,\n",
       "       416, 417, 418, 419, 420, 421, 422, 423, 424, 425, 426, 427, 428,\n",
       "       429, 430, 431, 432, 433, 434, 435, 436, 437, 438, 439, 440, 441,\n",
       "       442, 443, 444, 445, 446, 447, 448, 449, 450, 451, 452, 453, 454,\n",
       "       455, 456, 457, 458, 459, 460, 461, 462, 463, 464, 465, 466, 467,\n",
       "       468, 469, 470, 471, 472, 473, 474, 475, 476, 477, 478, 479, 480,\n",
       "       481, 482, 483, 484, 485, 486, 487, 488, 489, 490, 491, 492, 493,\n",
       "       494, 495, 496, 497, 498, 499, 500, 501, 502, 503, 504, 505, 506,\n",
       "       507, 508, 509, 510, 511, 512, 513, 514, 515, 516, 517, 518, 519,\n",
       "       520, 521, 522, 523, 524, 525, 526, 527, 528, 529, 530, 531, 532,\n",
       "       533, 534, 535, 536, 537, 538, 539, 540, 541, 542, 543, 544, 545,\n",
       "       546, 547, 548, 549, 550, 551, 552, 553, 554, 555, 556, 557, 558,\n",
       "       559, 560, 561, 562, 563, 564, 565, 566, 567, 568, 569, 570, 571,\n",
       "       572, 573, 574, 575, 576, 577, 578, 579, 580, 581, 582, 583, 584,\n",
       "       585, 586, 587, 588, 589, 590, 591, 592, 593, 594, 595, 596, 597,\n",
       "       598, 599, 600, 601, 602, 603, 604, 605, 606, 607, 608, 609, 610,\n",
       "       611, 612, 613, 614, 615, 616, 617, 618, 619, 620, 621, 622, 623,\n",
       "       624, 625, 626, 627, 628, 629, 630, 631, 632, 633, 634, 635, 636,\n",
       "       637, 638, 639, 640, 641, 642, 643, 644, 645, 646, 647, 648, 649,\n",
       "       650, 651, 652, 653, 654, 655, 656, 657, 658, 659, 660, 661, 662,\n",
       "       663, 664, 665, 666, 667, 668, 669, 670, 671, 672, 673, 674, 675,\n",
       "       676, 677, 678, 679, 680, 681, 682, 683, 684, 685, 686, 687, 688,\n",
       "       689, 690, 691, 692, 693, 694, 695, 696, 697, 698, 699, 700, 701,\n",
       "       702, 703, 704, 705, 706, 707, 708, 709, 710, 711, 712, 713, 714,\n",
       "       715, 716, 717, 718, 719, 720, 721, 722, 723, 724, 725, 726, 727,\n",
       "       728, 729, 730, 731, 732, 733, 734, 735, 736, 737, 738, 739, 740,\n",
       "       741, 742, 743, 744, 745, 746, 747, 748, 749, 750, 751, 752, 753,\n",
       "       754, 755, 756, 757, 758, 759, 760, 761, 762, 763, 764, 765, 766,\n",
       "       767, 768, 769, 770, 771, 772, 773, 774, 775, 776, 777, 778, 779,\n",
       "       780, 781, 782, 783, 784, 785, 786, 787, 788, 789, 790, 791, 792,\n",
       "       793, 794, 795, 796, 797, 798, 799, 800, 801, 802, 803, 804, 805,\n",
       "       806, 807, 808, 809, 810, 811, 812, 813, 814, 815, 816, 817, 818,\n",
       "       819, 820, 821, 822, 823, 824, 825, 826, 827, 828, 829, 830, 831,\n",
       "       832, 833, 834, 835, 836, 837, 838, 839, 840, 841, 842, 843, 844,\n",
       "       845, 846, 847, 848, 849, 850, 851, 852, 853, 854, 855, 856, 857,\n",
       "       858, 859, 860, 861, 862, 863, 864, 865, 866, 867, 868, 869, 870,\n",
       "       871, 872, 873, 874, 875, 876, 877, 878, 879, 880, 881, 882, 883,\n",
       "       884, 885, 886, 887, 888, 889, 890, 891, 892, 893, 894, 895, 896,\n",
       "       897, 898, 899, 900, 901, 902, 903, 904, 905, 906, 907, 908, 909,\n",
       "       910, 911, 912, 913, 914, 915, 916, 917, 918, 919, 920, 921, 922,\n",
       "       923, 924, 925, 926, 927, 928, 929, 930, 931, 932, 933, 934, 935,\n",
       "       936, 937, 938, 939, 940, 941, 942, 943, 944, 945, 946, 947, 948,\n",
       "       949, 950, 951, 952, 953, 954, 955, 956, 957, 958, 959, 960, 961,\n",
       "       962, 963, 964, 965, 966, 967, 968, 969, 970, 971, 972, 973, 974,\n",
       "       975, 976, 977, 978, 979, 980, 981, 982, 983, 984, 985, 986, 987,\n",
       "       988, 989, 990, 991, 992, 993, 994, 995, 996, 997, 998, 999])"
      ]
     },
     "execution_count": 17,
     "metadata": {},
     "output_type": "execute_result"
    }
   ],
   "source": [
    "A = pd.DataFrame({\"A\":np.arange(1000)})\n",
    "A.iloc[[1,2,3,4,5]]=np.array([-1,3,-2,-4,-5]).reshape(-1,1) # reshape를 안해주면 size mismatch가 뜬다.\n",
    "A.values.reshape(-1)"
   ]
  },
  {
   "cell_type": "code",
   "execution_count": 18,
   "id": "53d28a72",
   "metadata": {},
   "outputs": [],
   "source": [
    "class Model(nn.Module):\n",
    "    def __init__(self):\n",
    "        super().__init__()\n",
    "        self.seq_len = 1440\n",
    "        self.pred_len = 1\n",
    "        self.first_layer = nn.Linear(self.seq_len,self.pred_len)\n",
    "        self.first_layer.weight = nn.Parameter((1/self.seq_len)*torch.ones([self.pred_len,self.seq_len]))\n",
    "        self.weight_df = pd.DataFrame({\"weight\":self.first_layer.weight.cpu().detach().numpy().reshape(-1)})\n",
    "        # weight update를 위한 데이터프레임 이를 사용해야지 인덱스가 바뀌는 문제를 고정된 인덱스로 해결 가능\n",
    "    def forward(self,x):\n",
    "        return self.first_layer(x) \n",
    "    def reset_forward(self,x,train_idx,prev_idx): # idx는 attribution이 높은 것들의 index 리스트\n",
    "        if train_idx == None: \n",
    "            return self.forward(x) # forward를 호출 클래스 내의 호출은 무조건 self를 붙여야 된다.\n",
    "        weight_tensor = self.first_layer.weight\n",
    "#         print(len(prev_idx),weight_tensor.size())\n",
    "        self.weight_df.iloc[prev_idx] = weight_tensor.cpu().detach().numpy().reshape(-1,1)\n",
    "        weight_arr = self.weight_df.iloc[train_idx].values.reshape(-1) # index에 해당하는 array만 뽑는다.\n",
    "        weight_tensor = torch.FloatTensor(weight_arr).view(self.pred_len,-1) # 해당하는 인덱스만 뽑은후 텐서화\n",
    "        \n",
    "        self.first_layer = nn.Linear(len(train_idx),self.pred_len)\n",
    "        self.first_layer.weight = nn.Parameter(weight_tensor)\n",
    "        self.first_layer.weight.requires_grad = True\n",
    "        self.first_layer.to(device)\n",
    "        return self.first_layer(x[:,:,train_idx]) # 새로 설정한 layer에 input을 집어넣음"
   ]
  },
  {
   "cell_type": "markdown",
   "id": "571bca13",
   "metadata": {},
   "source": [
    "weight를 뽑으면 순서대로 정렬 돼있을거임 "
   ]
  },
  {
   "cell_type": "code",
   "execution_count": 19,
   "id": "fc1a55d6",
   "metadata": {},
   "outputs": [],
   "source": [
    "random.seed(seed)\n",
    "np.random.seed(seed)\n",
    "torch.manual_seed(seed)\n",
    "model = Model().to(device)\n",
    "optimizer = torch.optim.Adam(model.parameters(), lr=1e-4)\n",
    "num_epochs = 100\n",
    "criterion = SMAPE()"
   ]
  },
  {
   "cell_type": "code",
   "execution_count": 20,
   "id": "0fc445a1",
   "metadata": {},
   "outputs": [],
   "source": [
    "n = len(training)"
   ]
  },
  {
   "cell_type": "code",
   "execution_count": 21,
   "id": "985ba242",
   "metadata": {},
   "outputs": [
    {
     "data": {
      "text/plain": [
       "torch.Size([1, 1, 1440])"
      ]
     },
     "execution_count": 21,
     "metadata": {},
     "output_type": "execute_result"
    }
   ],
   "source": [
    "X_test.size()"
   ]
  },
  {
   "cell_type": "code",
   "execution_count": 22,
   "id": "463e9d31",
   "metadata": {},
   "outputs": [
    {
     "name": "stdout",
     "output_type": "stream",
     "text": [
      "Epoch [1]/[100] running accumulative loss across all batches: 42.193\n",
      "Epoch [21]/[100] running accumulative loss across all batches: 34.173\n",
      "Epoch [41]/[100] running accumulative loss across all batches: 34.173\n",
      "Epoch [61]/[100] running accumulative loss across all batches: 34.173\n",
      "Epoch [81]/[100] running accumulative loss across all batches: 34.173\n"
     ]
    }
   ],
   "source": [
    "random.seed(seed)\n",
    "np.random.seed(seed)\n",
    "torch.manual_seed(seed)\n",
    "nt_ig_attr_test = np.zeros(sequence_length) # 이렇게 설정해놓음으로써 인덱스가 바뀌지 않도록 조정\n",
    "temp_df = pd.DataFrame({\"attribution\":nt_ig_attr_test}) \n",
    "train_index = None # 초기 train_index\n",
    "prev_index = None\n",
    "for epoch in range(num_epochs):  # loop over the dataset multiple times\n",
    "    running_loss = 0.0\n",
    "    # check attribution on mid\n",
    "    if epoch != 0:\n",
    "        if epoch == 1: \n",
    "            train_index = list(np.arange(sequence_length))\n",
    "        \n",
    "        ig = IntegratedGradients(model)        \n",
    "        nt_ig = NoiseTunnel(ig)\n",
    "        \n",
    "        nt_ig_attr_test = nt_ig.attribute(X_test[:,:,train_index])\n",
    "        \n",
    "        # X_test는 -split-sequence_length:-split 까지인 validation set과 같다.\n",
    "        nt_ig_attr_test = nt_ig_attr_test.cpu().detach().numpy().reshape(-1)\n",
    "#        print(nt_ig_attr_test.shape)\n",
    "        temp_df['attribution'].iloc[train_index] = nt_ig_attr_test\n",
    "#         print(temp_df)\n",
    "        back_df = temp_df['attribution'].iloc[train_index] #인덱스가 매 epoch마다 바뀐다.\n",
    "        # 처음에 train_index = np.arange(sequence_length) 여야한다.\n",
    "        \n",
    "##################################################################        \n",
    "#        lower_percentile = back_df.quantile(0.01) # 인자[하이퍼파라미터]\n",
    "##################################################################        \n",
    "#         standard_mean = (back_df.mean()) \n",
    "#         standard_std = back_df.std()\n",
    "#         lower_bound = standard_mean-standard_std*0.05\n",
    "#         upper_bound = standard_mean+standard_std*0.05\n",
    "\n",
    "## 이런식으로 수행하면 포함되지 않을 수 있다.\n",
    "##################################################################\n",
    "#         standard_median = (back_df.median()) \n",
    "#         standard_std = back_df.std()\n",
    "#         lower_bound = standard_median-standard_std*0.05\n",
    "#         upper_bound = standard_median+standard_std*0.05\n",
    "\n",
    "## median값이 유의미한 경우 제외되는 문제가 발생한다.\n",
    "##################################################################\n",
    "        standard_std = back_df.std()\n",
    "        lower_bound = 0 - standard_std\n",
    "        upper_bound = 0 + standard_std\n",
    "## loss값이 그대로 유지되는 현상이 발생\n",
    "## 해당하는 인덱스가 한번만 사라진이후 계속 그대로 유지된다.\n",
    "###################################################################\n",
    "        prev_index = train_index # 이전 인덱스 저장 (모델 파라미터 df 관리를 위해서)\n",
    "\n",
    "###################################################################\n",
    "#        train_index = list(back_df[(back_df > lower_percentile)].index)\n",
    "###################################################################\n",
    "        train_index = list(back_df[(back_df > upper_bound)|(back_df < lower_bound)].index)\n",
    "#       print(\"train\",len(train_index))\n",
    "        # temp_df에 맞는 train_index 추출\n",
    "\n",
    "#        print(len(train_index))\n",
    "    for inputs, labels in training:\n",
    "        # forward pass\n",
    "        inputs = inputs\n",
    "        #print(epoch,train_index)\n",
    "        outputs = model.reset_forward(inputs,train_idx = train_index,prev_idx = prev_index) # train_index를 batch에 대해서 계속 수행한다.\n",
    "        # prev_idx를 train_idx로 교체 prev_idx로 DataFrame 변경했으므로\n",
    "        prev_index = train_index\n",
    "        # defining loss\n",
    "        loss = criterion(outputs, labels)\n",
    "        # zero the parameter gradients\n",
    "        optimizer.zero_grad()\n",
    "        # computing gradients\n",
    "        loss.backward()\n",
    "        \n",
    "        # accumulating running loss\n",
    "        running_loss += loss.item()\n",
    "        # updated weights based on computed gradients\n",
    "        optimizer.step()\n",
    "    if epoch % 20 == 0:    \n",
    "        print('Epoch [%d]/[%d] running accumulative loss across all batches: %.3f' %(epoch + 1, num_epochs, (running_loss/n)*100))\n"
   ]
  },
  {
   "cell_type": "code",
   "execution_count": 23,
   "id": "f066c6ef",
   "metadata": {},
   "outputs": [
    {
     "data": {
      "text/plain": [
       "809"
      ]
     },
     "execution_count": 23,
     "metadata": {},
     "output_type": "execute_result"
    }
   ],
   "source": [
    "len(train_index)"
   ]
  },
  {
   "cell_type": "code",
   "execution_count": 24,
   "id": "c5167a95",
   "metadata": {},
   "outputs": [
    {
     "data": {
      "text/plain": [
       "55.232709646224976"
      ]
     },
     "execution_count": 24,
     "metadata": {},
     "output_type": "execute_result"
    }
   ],
   "source": [
    "pred = model(X_test[:,:,train_index])\n",
    "pred= pred.cpu().detach().view(-1,1)\n",
    "nine_result = criterion(pred,target).item()*100\n",
    "nine_result"
   ]
  },
  {
   "cell_type": "code",
   "execution_count": null,
   "id": "8194ad2c",
   "metadata": {},
   "outputs": [],
   "source": []
  },
  {
   "cell_type": "code",
   "execution_count": null,
   "id": "394f35ef",
   "metadata": {},
   "outputs": [],
   "source": []
  }
 ],
 "metadata": {
  "kernelspec": {
   "display_name": "sj_virtual",
   "language": "python",
   "name": "myvenv"
  },
  "language_info": {
   "codemirror_mode": {
    "name": "ipython",
    "version": 3
   },
   "file_extension": ".py",
   "mimetype": "text/x-python",
   "name": "python",
   "nbconvert_exporter": "python",
   "pygments_lexer": "ipython3",
   "version": "3.8.10"
  },
  "varInspector": {
   "cols": {
    "lenName": 16,
    "lenType": 16,
    "lenVar": 40
   },
   "kernels_config": {
    "python": {
     "delete_cmd_postfix": "",
     "delete_cmd_prefix": "del ",
     "library": "var_list.py",
     "varRefreshCmd": "print(var_dic_list())"
    },
    "r": {
     "delete_cmd_postfix": ") ",
     "delete_cmd_prefix": "rm(",
     "library": "var_list.r",
     "varRefreshCmd": "cat(var_dic_list()) "
    }
   },
   "types_to_exclude": [
    "module",
    "function",
    "builtin_function_or_method",
    "instance",
    "_Feature"
   ],
   "window_display": false
  }
 },
 "nbformat": 4,
 "nbformat_minor": 5
}
