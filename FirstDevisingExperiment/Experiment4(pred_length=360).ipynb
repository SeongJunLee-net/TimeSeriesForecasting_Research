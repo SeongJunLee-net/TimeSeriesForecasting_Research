{
 "cells": [
  {
   "cell_type": "code",
   "execution_count": 9,
   "id": "441d7404",
   "metadata": {},
   "outputs": [],
   "source": [
    "import numpy as np\n",
    "import pandas as pd\n",
    "import matplotlib.pyplot as plt\n",
    "import seaborn as sns\n",
    "import torch\n",
    "import torch.nn as nn\n",
    "import random\n",
    "from torch.utils.data import TensorDataset\n",
    "from torch.utils.data import DataLoader\n",
    "from pytorch_forecasting.metrics import SMAPE\n",
    "from captum.attr import IntegratedGradients,NoiseTunnel"
   ]
  },
  {
   "cell_type": "markdown",
   "id": "e3bd78bf",
   "metadata": {},
   "source": [
    "## 1. 모델 구성하기"
   ]
  },
  {
   "cell_type": "code",
   "execution_count": 10,
   "id": "3078b5ca",
   "metadata": {},
   "outputs": [],
   "source": [
    "data = pd.read_csv('./TrafficData/4-Copy1.csv')\n",
    "data = data['volumn']\n",
    "sequence_length = 1440\n",
    "pred_len = 360"
   ]
  },
  {
   "cell_type": "code",
   "execution_count": 11,
   "id": "6feb01fe",
   "metadata": {},
   "outputs": [],
   "source": [
    "from torch import FloatTensor as FloatTensor"
   ]
  },
  {
   "cell_type": "code",
   "execution_count": 12,
   "id": "70efae60",
   "metadata": {},
   "outputs": [],
   "source": [
    "def seq_data(x,sequence_length,pred_len):\n",
    "    seq_list = []\n",
    "    target_list = []\n",
    "    device = torch.device(\"cuda:0\")\n",
    "    for i in range(len(x)-sequence_length-pred_len):\n",
    "        seq_list.append(x.iloc[i:i+sequence_length].values)\n",
    "        target_list.append(x.iloc[i+sequence_length:i+sequence_length+pred_len].values)\n",
    "\n",
    "    return FloatTensor(seq_list).view(-1,1,sequence_length).to(device),FloatTensor(target_list).unsqueeze(1).view(-1,1,pred_len).to(device)"
   ]
  },
  {
   "cell_type": "code",
   "execution_count": 13,
   "id": "39fb21cf",
   "metadata": {},
   "outputs": [],
   "source": [
    "split = 10080\n",
    "x_train,y_train = seq_data(data.iloc[:-split],sequence_length,pred_len)"
   ]
  },
  {
   "cell_type": "code",
   "execution_count": 14,
   "id": "a75bab39",
   "metadata": {},
   "outputs": [
    {
     "data": {
      "text/plain": [
       "torch.Size([27000, 1, 1440])"
      ]
     },
     "execution_count": 14,
     "metadata": {},
     "output_type": "execute_result"
    }
   ],
   "source": [
    "x_train.size()"
   ]
  },
  {
   "cell_type": "code",
   "execution_count": 15,
   "id": "4c989b22",
   "metadata": {},
   "outputs": [],
   "source": [
    "batch_size = 64\n",
    "train_dataset = TensorDataset(x_train,y_train)\n",
    "training = DataLoader(train_dataset,batch_size= batch_size)"
   ]
  },
  {
   "cell_type": "code",
   "execution_count": 16,
   "id": "673cbb2b",
   "metadata": {},
   "outputs": [],
   "source": [
    "seed = 42"
   ]
  },
  {
   "cell_type": "code",
   "execution_count": 17,
   "id": "925912dd",
   "metadata": {},
   "outputs": [],
   "source": [
    "device = torch.device(\"cuda:0\")"
   ]
  },
  {
   "cell_type": "code",
   "execution_count": 25,
   "id": "d420bbcd",
   "metadata": {},
   "outputs": [],
   "source": [
    "X_test = torch.FloatTensor(data.iloc[-split-sequence_length:-split].values).to(device)\n",
    "# X_train의 마지막 인덱스에서 sequece_length만큼 뒤에 부분을 잘라오기\n",
    "X_test = X_test.view(1,1,sequence_length)"
   ]
  },
  {
   "cell_type": "code",
   "execution_count": 19,
   "id": "b66a98ae",
   "metadata": {},
   "outputs": [
    {
     "data": {
      "text/plain": [
       "tensor([[ 90520.],\n",
       "        [ 89814.],\n",
       "        [ 86395.],\n",
       "        [ 89065.],\n",
       "        [ 85193.],\n",
       "        [ 87391.],\n",
       "        [ 85609.],\n",
       "        [ 86244.],\n",
       "        [ 84304.],\n",
       "        [ 86815.],\n",
       "        [ 83618.],\n",
       "        [ 86064.],\n",
       "        [ 82244.],\n",
       "        [ 84805.],\n",
       "        [ 82272.],\n",
       "        [ 83415.],\n",
       "        [ 80693.],\n",
       "        [ 81802.],\n",
       "        [ 81619.],\n",
       "        [ 82033.],\n",
       "        [ 81861.],\n",
       "        [ 78951.],\n",
       "        [ 81576.],\n",
       "        [ 78467.],\n",
       "        [ 80895.],\n",
       "        [ 76625.],\n",
       "        [ 80614.],\n",
       "        [ 77921.],\n",
       "        [ 81156.],\n",
       "        [ 76667.],\n",
       "        [ 80052.],\n",
       "        [ 74750.],\n",
       "        [ 78297.],\n",
       "        [ 73855.],\n",
       "        [ 77834.],\n",
       "        [ 73881.],\n",
       "        [ 77449.],\n",
       "        [ 72496.],\n",
       "        [ 76311.],\n",
       "        [ 70855.],\n",
       "        [ 77667.],\n",
       "        [ 72778.],\n",
       "        [ 78441.],\n",
       "        [ 72819.],\n",
       "        [ 76707.],\n",
       "        [ 70612.],\n",
       "        [ 76230.],\n",
       "        [ 70458.],\n",
       "        [ 76259.],\n",
       "        [ 69757.],\n",
       "        [ 75257.],\n",
       "        [ 68427.],\n",
       "        [ 73459.],\n",
       "        [ 66659.],\n",
       "        [ 70569.],\n",
       "        [ 67390.],\n",
       "        [ 73502.],\n",
       "        [ 67886.],\n",
       "        [ 74849.],\n",
       "        [ 68626.],\n",
       "        [136071.],\n",
       "        [ 72234.],\n",
       "        [ 72959.],\n",
       "        [ 68774.],\n",
       "        [ 70707.],\n",
       "        [ 68556.],\n",
       "        [ 71075.],\n",
       "        [ 67156.],\n",
       "        [ 70534.],\n",
       "        [ 67714.],\n",
       "        [ 69858.],\n",
       "        [ 65949.],\n",
       "        [ 68777.],\n",
       "        [ 65293.],\n",
       "        [ 68698.],\n",
       "        [ 64205.],\n",
       "        [ 67327.],\n",
       "        [ 63264.],\n",
       "        [ 67521.],\n",
       "        [ 62513.],\n",
       "        [ 67175.],\n",
       "        [ 62955.],\n",
       "        [ 66414.],\n",
       "        [ 60923.],\n",
       "        [ 65978.],\n",
       "        [ 59994.],\n",
       "        [ 65676.],\n",
       "        [ 60551.],\n",
       "        [ 65771.],\n",
       "        [ 59275.],\n",
       "        [ 65013.],\n",
       "        [ 58702.],\n",
       "        [ 62853.],\n",
       "        [ 58565.],\n",
       "        [ 64387.],\n",
       "        [ 59805.],\n",
       "        [ 63958.],\n",
       "        [ 58382.],\n",
       "        [ 63287.],\n",
       "        [ 59075.],\n",
       "        [ 62554.],\n",
       "        [ 60513.],\n",
       "        [ 63710.],\n",
       "        [ 61634.],\n",
       "        [ 63430.],\n",
       "        [ 60214.],\n",
       "        [ 63577.],\n",
       "        [ 60392.],\n",
       "        [ 63178.],\n",
       "        [ 60447.],\n",
       "        [ 63045.],\n",
       "        [ 59347.],\n",
       "        [ 61524.],\n",
       "        [ 57628.],\n",
       "        [ 59311.],\n",
       "        [ 58386.],\n",
       "        [ 60845.],\n",
       "        [ 58064.],\n",
       "        [ 62530.],\n",
       "        [ 58730.],\n",
       "        [ 58341.],\n",
       "        [ 61805.],\n",
       "        [ 57651.],\n",
       "        [ 60194.],\n",
       "        [ 55690.],\n",
       "        [ 60107.],\n",
       "        [ 56304.],\n",
       "        [ 60918.],\n",
       "        [ 55790.],\n",
       "        [ 59965.],\n",
       "        [ 55275.],\n",
       "        [ 59356.],\n",
       "        [ 54296.],\n",
       "        [ 59584.],\n",
       "        [ 54377.],\n",
       "        [ 57847.],\n",
       "        [ 52169.],\n",
       "        [ 57711.],\n",
       "        [ 52042.],\n",
       "        [ 56993.],\n",
       "        [ 52218.],\n",
       "        [ 57048.],\n",
       "        [ 51230.],\n",
       "        [ 57016.],\n",
       "        [ 51164.],\n",
       "        [ 54340.],\n",
       "        [ 50572.],\n",
       "        [ 56962.],\n",
       "        [ 54479.],\n",
       "        [ 56745.],\n",
       "        [ 53487.],\n",
       "        [ 55306.],\n",
       "        [ 53466.],\n",
       "        [ 55929.],\n",
       "        [ 52948.],\n",
       "        [ 55776.],\n",
       "        [ 52529.],\n",
       "        [ 54124.],\n",
       "        [ 51725.],\n",
       "        [ 53554.],\n",
       "        [ 51530.],\n",
       "        [ 55117.],\n",
       "        [ 52477.],\n",
       "        [ 56192.],\n",
       "        [ 52820.],\n",
       "        [ 55101.],\n",
       "        [ 51956.],\n",
       "        [ 55105.],\n",
       "        [ 51502.],\n",
       "        [ 55302.],\n",
       "        [ 51333.],\n",
       "        [ 55048.],\n",
       "        [ 49833.],\n",
       "        [ 54278.],\n",
       "        [ 49735.],\n",
       "        [ 54917.],\n",
       "        [ 50404.],\n",
       "        [ 54709.],\n",
       "        [ 51282.],\n",
       "        [ 56642.],\n",
       "        [ 51539.],\n",
       "        [ 57084.],\n",
       "        [ 51588.],\n",
       "        [ 55428.],\n",
       "        [ 50055.],\n",
       "        [ 54386.],\n",
       "        [ 50306.],\n",
       "        [ 54862.],\n",
       "        [ 49512.],\n",
       "        [ 54408.],\n",
       "        [ 49358.],\n",
       "        [ 55015.],\n",
       "        [ 50184.],\n",
       "        [ 55043.],\n",
       "        [ 52106.],\n",
       "        [ 52995.],\n",
       "        [ 50614.],\n",
       "        [ 52826.],\n",
       "        [ 51271.],\n",
       "        [ 52864.],\n",
       "        [ 50717.],\n",
       "        [ 52202.],\n",
       "        [ 50578.],\n",
       "        [ 53110.],\n",
       "        [ 49841.],\n",
       "        [ 51322.],\n",
       "        [ 50409.],\n",
       "        [ 52497.],\n",
       "        [ 50761.],\n",
       "        [ 53230.],\n",
       "        [ 50320.],\n",
       "        [ 52172.],\n",
       "        [ 49187.],\n",
       "        [ 52969.],\n",
       "        [ 49225.],\n",
       "        [ 53720.],\n",
       "        [ 49582.],\n",
       "        [ 51558.],\n",
       "        [ 48363.],\n",
       "        [ 51138.],\n",
       "        [ 48654.],\n",
       "        [ 53215.],\n",
       "        [ 49601.],\n",
       "        [ 53667.],\n",
       "        [ 49535.],\n",
       "        [ 52715.],\n",
       "        [ 49276.],\n",
       "        [ 52783.],\n",
       "        [ 49268.],\n",
       "        [ 53107.],\n",
       "        [ 49100.],\n",
       "        [ 53069.],\n",
       "        [ 48781.],\n",
       "        [ 52239.],\n",
       "        [ 46228.],\n",
       "        [ 52962.],\n",
       "        [ 47989.],\n",
       "        [ 53762.],\n",
       "        [ 49433.],\n",
       "        [ 54047.],\n",
       "        [ 54033.],\n",
       "        [ 54299.],\n",
       "        [ 52266.],\n",
       "        [ 53351.],\n",
       "        [ 51003.],\n",
       "        [ 53093.],\n",
       "        [ 52100.],\n",
       "        [ 53416.],\n",
       "        [ 51634.],\n",
       "        [ 53016.],\n",
       "        [ 51451.],\n",
       "        [ 53936.],\n",
       "        [ 51757.],\n",
       "        [ 53290.],\n",
       "        [ 51570.],\n",
       "        [ 52849.],\n",
       "        [ 50519.],\n",
       "        [ 53751.],\n",
       "        [ 51996.],\n",
       "        [ 52300.],\n",
       "        [ 51138.],\n",
       "        [ 52532.],\n",
       "        [ 50762.],\n",
       "        [ 51980.],\n",
       "        [ 51066.],\n",
       "        [ 51129.],\n",
       "        [ 52102.],\n",
       "        [ 53580.],\n",
       "        [ 52181.],\n",
       "        [ 53193.],\n",
       "        [ 53087.],\n",
       "        [ 54280.],\n",
       "        [ 52077.],\n",
       "        [ 53521.],\n",
       "        [ 51956.],\n",
       "        [ 55146.],\n",
       "        [ 52719.],\n",
       "        [ 53955.],\n",
       "        [ 53005.],\n",
       "        [ 52943.],\n",
       "        [ 53210.],\n",
       "        [ 54188.],\n",
       "        [ 53306.],\n",
       "        [ 55229.],\n",
       "        [ 56946.],\n",
       "        [ 54379.],\n",
       "        [ 58493.],\n",
       "        [ 55619.],\n",
       "        [ 58320.],\n",
       "        [ 55959.],\n",
       "        [ 60397.],\n",
       "        [ 56193.],\n",
       "        [ 58530.],\n",
       "        [ 54813.],\n",
       "        [ 57399.],\n",
       "        [ 56086.],\n",
       "        [ 59652.],\n",
       "        [ 57334.],\n",
       "        [ 61489.],\n",
       "        [ 59523.],\n",
       "        [ 64125.],\n",
       "        [ 58535.],\n",
       "        [ 61985.],\n",
       "        [ 58414.],\n",
       "        [ 61571.],\n",
       "        [ 58203.],\n",
       "        [ 62941.],\n",
       "        [ 58155.],\n",
       "        [ 61987.],\n",
       "        [ 59354.],\n",
       "        [ 63990.],\n",
       "        [ 59068.],\n",
       "        [ 63384.],\n",
       "        [ 59364.],\n",
       "        [ 63684.],\n",
       "        [ 59065.],\n",
       "        [ 63505.],\n",
       "        [ 59307.],\n",
       "        [ 64304.],\n",
       "        [ 59009.],\n",
       "        [ 67150.],\n",
       "        [ 59330.],\n",
       "        [ 65355.],\n",
       "        [ 60255.],\n",
       "        [ 66653.],\n",
       "        [ 59178.],\n",
       "        [ 66541.],\n",
       "        [ 61476.],\n",
       "        [ 68829.],\n",
       "        [ 65132.],\n",
       "        [ 71218.],\n",
       "        [ 67766.],\n",
       "        [ 70279.],\n",
       "        [ 67638.],\n",
       "        [ 70823.],\n",
       "        [ 70936.],\n",
       "        [ 72637.],\n",
       "        [ 67624.],\n",
       "        [ 72210.],\n",
       "        [ 68239.],\n",
       "        [ 74331.],\n",
       "        [ 70470.],\n",
       "        [ 75938.],\n",
       "        [ 72497.],\n",
       "        [ 76710.],\n",
       "        [ 71985.],\n",
       "        [ 76925.],\n",
       "        [ 73009.],\n",
       "        [ 79072.],\n",
       "        [ 73277.],\n",
       "        [ 80808.],\n",
       "        [ 75253.],\n",
       "        [ 79741.],\n",
       "        [ 74894.],\n",
       "        [ 79628.],\n",
       "        [ 78586.],\n",
       "        [ 83946.],\n",
       "        [ 78965.],\n",
       "        [ 86190.],\n",
       "        [ 81432.]])"
      ]
     },
     "execution_count": 19,
     "metadata": {},
     "output_type": "execute_result"
    }
   ],
   "source": [
    "target = list(data.iloc[-split:-split+pred_len].values)\n",
    "target = FloatTensor(target).view(-1,1)\n",
    "target"
   ]
  },
  {
   "cell_type": "code",
   "execution_count": 45,
   "id": "53d28a72",
   "metadata": {},
   "outputs": [],
   "source": [
    "class Model(nn.Module):\n",
    "    def __init__(self):\n",
    "        super().__init__()\n",
    "        self.seq_len = 1440\n",
    "        self.pred_len = 360\n",
    "        self.first_layer = nn.Linear(self.seq_len,self.pred_len)\n",
    "        self.first_layer.weight = nn.Parameter((1/self.seq_len)*torch.ones([self.pred_len,self.seq_len]))\n",
    "        self.weight_df = pd.DataFrame({\"weight\":self.first_layer.weight.cpu().detach().numpy().reshape(-1)})\n",
    "        # weight update를 위한 데이터프레임 이를 사용해야지 인덱스가 바뀌는 문제를 고정된 인덱스로 해결 가능\n",
    "    def forward(self,x):\n",
    "        return self.first_layer(x).squeeze(1)"
   ]
  },
  {
   "cell_type": "markdown",
   "id": "571bca13",
   "metadata": {},
   "source": [
    "weight를 뽑으면 순서대로 정렬 돼있을거임 "
   ]
  },
  {
   "cell_type": "code",
   "execution_count": 46,
   "id": "fc1a55d6",
   "metadata": {},
   "outputs": [],
   "source": [
    "random.seed(seed)\n",
    "np.random.seed(seed)\n",
    "torch.manual_seed(seed)\n",
    "model = Model().to(device)\n",
    "optimizer = torch.optim.Adam(model.parameters(), lr=1e-4)\n",
    "num_epochs = 100\n",
    "criterion = SMAPE()"
   ]
  },
  {
   "cell_type": "code",
   "execution_count": 47,
   "id": "0fc445a1",
   "metadata": {},
   "outputs": [],
   "source": [
    "n = len(training)"
   ]
  },
  {
   "cell_type": "code",
   "execution_count": 48,
   "id": "985ba242",
   "metadata": {},
   "outputs": [
    {
     "data": {
      "text/plain": [
       "torch.Size([1, 1, 1440])"
      ]
     },
     "execution_count": 48,
     "metadata": {},
     "output_type": "execute_result"
    }
   ],
   "source": [
    "X_test.size()"
   ]
  },
  {
   "cell_type": "markdown",
   "id": "c94b0494",
   "metadata": {},
   "source": [
    "### Full-Trained Model(M) 구성"
   ]
  },
  {
   "cell_type": "code",
   "execution_count": 49,
   "id": "031b49a2",
   "metadata": {},
   "outputs": [
    {
     "name": "stdout",
     "output_type": "stream",
     "text": [
      "Epoch [1]/[100] running accumulative loss across all batches: 45.288\n",
      "Epoch [21]/[100] running accumulative loss across all batches: 41.225\n",
      "Epoch [41]/[100] running accumulative loss across all batches: 41.142\n",
      "Epoch [61]/[100] running accumulative loss across all batches: 41.076\n",
      "Epoch [81]/[100] running accumulative loss across all batches: 40.299\n"
     ]
    }
   ],
   "source": [
    "random.seed(seed)\n",
    "np.random.seed(seed)\n",
    "torch.manual_seed(seed)\n",
    "for epoch in range(num_epochs):  # loop over the dataset multiple times\n",
    "    running_loss = 0.0\n",
    "    for inputs, labels in training:\n",
    "        # forward pass\n",
    "        inputs = inputs\n",
    "        outputs = model(inputs)\n",
    "        # defining loss\n",
    "        loss = criterion(outputs,labels.squeeze(1))\n",
    "        # zero the parameter gradients\n",
    "        optimizer.zero_grad()\n",
    "        # computing gradients\n",
    "        loss.backward()\n",
    "        # accumulating running loss\n",
    "        running_loss += loss.item()\n",
    "        # updated weights based on computed gradients\n",
    "        optimizer.step()\n",
    "    if epoch % 20 == 0:    \n",
    "        print('Epoch [%d]/[%d] running accumulative loss across all batches: %.3f' %(epoch + 1, num_epochs, (running_loss/n)*100))\n",
    "    running_loss = 0.0"
   ]
  },
  {
   "cell_type": "code",
   "execution_count": 50,
   "id": "86697bf4",
   "metadata": {},
   "outputs": [
    {
     "data": {
      "text/plain": [
       "88.24793696403503"
      ]
     },
     "execution_count": 50,
     "metadata": {},
     "output_type": "execute_result"
    }
   ],
   "source": [
    "pred = model(X_test)\n",
    "pred= pred.cpu().detach().view(-1,1)\n",
    "result = criterion(pred,target).item()*100\n",
    "result"
   ]
  },
  {
   "cell_type": "code",
   "execution_count": 51,
   "id": "11f4d23c",
   "metadata": {},
   "outputs": [],
   "source": [
    "from sklearn.preprocessing import StandardScaler"
   ]
  },
  {
   "cell_type": "code",
   "execution_count": 52,
   "id": "1ea3a917",
   "metadata": {},
   "outputs": [
    {
     "data": {
      "text/plain": [
       "torch.Size([1, 1, 1440])"
      ]
     },
     "execution_count": 52,
     "metadata": {},
     "output_type": "execute_result"
    }
   ],
   "source": [
    "X_test.size()"
   ]
  },
  {
   "cell_type": "code",
   "execution_count": 53,
   "id": "c5ddf7ff",
   "metadata": {},
   "outputs": [
    {
     "data": {
      "text/plain": [
       "Model(\n",
       "  (first_layer): Linear(in_features=1440, out_features=360, bias=True)\n",
       ")"
      ]
     },
     "execution_count": 53,
     "metadata": {},
     "output_type": "execute_result"
    }
   ],
   "source": [
    "model"
   ]
  },
  {
   "cell_type": "code",
   "execution_count": 95,
   "id": "ae6f8f61",
   "metadata": {
    "scrolled": true
   },
   "outputs": [
    {
     "data": {
      "text/plain": [
       "tensor([[[ 737.0080,  609.1163,  610.5202,  ..., 1768.5806, 2447.4512,\n",
       "          1917.9781]]], device='cuda:0', dtype=torch.float64)"
      ]
     },
     "execution_count": 95,
     "metadata": {},
     "output_type": "execute_result"
    }
   ],
   "source": [
    "ig = IntegratedGradients(model)\n",
    "nt_ig = NoiseTunnel(ig)\n",
    "nt_ig_attr_test = nt_ig.attribute(X_test,target=0)\n",
    "# 여러개의 output이 있으므로 어떤 target에 대해서 attribution을 구할것인지 명시해야한다.\n",
    "# 이때 아래에서 리스트로 전달해도 된다는 것의 의미는 예제의 갯수에 맞게 그러니깐 X_test의 sample갯수에 맞게 리스트를 입력하면 된다.\n",
    "# 결론적으로, 하나의 결과에 대해서만 계산할 수 있다.\n",
    "nt_ig_attr_test"
   ]
  },
  {
   "cell_type": "markdown",
   "id": "06f8ae60",
   "metadata": {},
   "source": [
    "### Q> Multiple output을 낼때의 각 output마다 attribution의 경향이 다를까?"
   ]
  },
  {
   "cell_type": "code",
   "execution_count": 96,
   "id": "48ac8bd7",
   "metadata": {},
   "outputs": [
    {
     "data": {
      "text/html": [
       "<div>\n",
       "<style scoped>\n",
       "    .dataframe tbody tr th:only-of-type {\n",
       "        vertical-align: middle;\n",
       "    }\n",
       "\n",
       "    .dataframe tbody tr th {\n",
       "        vertical-align: top;\n",
       "    }\n",
       "\n",
       "    .dataframe thead th {\n",
       "        text-align: right;\n",
       "    }\n",
       "</style>\n",
       "<table border=\"1\" class=\"dataframe\">\n",
       "  <thead>\n",
       "    <tr style=\"text-align: right;\">\n",
       "      <th></th>\n",
       "      <th>attr</th>\n",
       "    </tr>\n",
       "  </thead>\n",
       "  <tbody>\n",
       "    <tr>\n",
       "      <th>0</th>\n",
       "      <td>737.007951</td>\n",
       "    </tr>\n",
       "    <tr>\n",
       "      <th>1</th>\n",
       "      <td>609.116284</td>\n",
       "    </tr>\n",
       "    <tr>\n",
       "      <th>2</th>\n",
       "      <td>610.520209</td>\n",
       "    </tr>\n",
       "    <tr>\n",
       "      <th>3</th>\n",
       "      <td>590.682109</td>\n",
       "    </tr>\n",
       "    <tr>\n",
       "      <th>4</th>\n",
       "      <td>590.196765</td>\n",
       "    </tr>\n",
       "    <tr>\n",
       "      <th>...</th>\n",
       "      <td>...</td>\n",
       "    </tr>\n",
       "    <tr>\n",
       "      <th>1435</th>\n",
       "      <td>1716.412687</td>\n",
       "    </tr>\n",
       "    <tr>\n",
       "      <th>1436</th>\n",
       "      <td>2310.677985</td>\n",
       "    </tr>\n",
       "    <tr>\n",
       "      <th>1437</th>\n",
       "      <td>1768.580634</td>\n",
       "    </tr>\n",
       "    <tr>\n",
       "      <th>1438</th>\n",
       "      <td>2447.451199</td>\n",
       "    </tr>\n",
       "    <tr>\n",
       "      <th>1439</th>\n",
       "      <td>1917.978112</td>\n",
       "    </tr>\n",
       "  </tbody>\n",
       "</table>\n",
       "<p>1440 rows × 1 columns</p>\n",
       "</div>"
      ],
      "text/plain": [
       "             attr\n",
       "0      737.007951\n",
       "1      609.116284\n",
       "2      610.520209\n",
       "3      590.682109\n",
       "4      590.196765\n",
       "...           ...\n",
       "1435  1716.412687\n",
       "1436  2310.677985\n",
       "1437  1768.580634\n",
       "1438  2447.451199\n",
       "1439  1917.978112\n",
       "\n",
       "[1440 rows x 1 columns]"
      ]
     },
     "execution_count": 96,
     "metadata": {},
     "output_type": "execute_result"
    }
   ],
   "source": [
    "attr_df = pd.DataFrame({\"attr\":nt_ig_attr_test.cpu().numpy().reshape(-1)})\n",
    "attr_df"
   ]
  },
  {
   "attachments": {
    "image.png": {
     "image/png": "[encoded data removed]"
    }
   },
   "cell_type": "markdown",
   "id": "340a3fae",
   "metadata": {},
   "source": [
    "![image.png](attachment:image.png)"
   ]
  },
  {
   "cell_type": "markdown",
   "id": "c5c45bca",
   "metadata": {},
   "source": [
    "### A) plot을 찍어봄으로써 확인해보자"
   ]
  },
  {
   "cell_type": "code",
   "execution_count": 97,
   "id": "601b2b77",
   "metadata": {},
   "outputs": [
    {
     "data": {
      "text/plain": [
       "<AxesSubplot: >"
      ]
     },
     "execution_count": 97,
     "metadata": {},
     "output_type": "execute_result"
    },
    {
     "data": {
      "image/png": "[encoded data removed]",
      "text/plain": [
       "<Figure size 640x480 with 1 Axes>"
      ]
     },
     "metadata": {},
     "output_type": "display_data"
    }
   ],
   "source": [
    "attr_df.plot()"
   ]
  },
  {
   "cell_type": "markdown",
   "id": "a09822fe",
   "metadata": {},
   "source": [
    "### A2) 여러개의 output에 대한 attribution을 평균을 내서 확인"
   ]
  },
  {
   "cell_type": "code",
   "execution_count": 99,
   "id": "1db70490",
   "metadata": {},
   "outputs": [],
   "source": [
    "nt_ig_attr_test = torch.zeros((1,1,1))\n",
    "for i in range(360):\n",
    "    ig = IntegratedGradients(model)\n",
    "    nt_ig = NoiseTunnel(ig)\n",
    "    nt_ig_attr_test = nt_ig.attribute(X_test,target=i)\n",
    "    nt_ig_attr_test+=nt_ig_attr_test\n",
    "nt_ig_attr_test = nt_ig_attr_test/360\n",
    "attr_df = pd.DataFrame({\"attr\":nt_ig_attr_test.cpu().numpy().reshape(-1)})"
   ]
  },
  {
   "cell_type": "code",
   "execution_count": 100,
   "id": "5a7255b6",
   "metadata": {},
   "outputs": [
    {
     "data": {
      "text/html": [
       "<div>\n",
       "<style scoped>\n",
       "    .dataframe tbody tr th:only-of-type {\n",
       "        vertical-align: middle;\n",
       "    }\n",
       "\n",
       "    .dataframe tbody tr th {\n",
       "        vertical-align: top;\n",
       "    }\n",
       "\n",
       "    .dataframe thead th {\n",
       "        text-align: right;\n",
       "    }\n",
       "</style>\n",
       "<table border=\"1\" class=\"dataframe\">\n",
       "  <thead>\n",
       "    <tr style=\"text-align: right;\">\n",
       "      <th></th>\n",
       "      <th>attr</th>\n",
       "    </tr>\n",
       "  </thead>\n",
       "  <tbody>\n",
       "    <tr>\n",
       "      <th>0</th>\n",
       "      <td>6.262665</td>\n",
       "    </tr>\n",
       "    <tr>\n",
       "      <th>1</th>\n",
       "      <td>5.756770</td>\n",
       "    </tr>\n",
       "    <tr>\n",
       "      <th>2</th>\n",
       "      <td>5.704384</td>\n",
       "    </tr>\n",
       "    <tr>\n",
       "      <th>3</th>\n",
       "      <td>5.393598</td>\n",
       "    </tr>\n",
       "    <tr>\n",
       "      <th>4</th>\n",
       "      <td>5.338710</td>\n",
       "    </tr>\n",
       "    <tr>\n",
       "      <th>...</th>\n",
       "      <td>...</td>\n",
       "    </tr>\n",
       "    <tr>\n",
       "      <th>1435</th>\n",
       "      <td>-3.434742</td>\n",
       "    </tr>\n",
       "    <tr>\n",
       "      <th>1436</th>\n",
       "      <td>-3.171979</td>\n",
       "    </tr>\n",
       "    <tr>\n",
       "      <th>1437</th>\n",
       "      <td>-3.447606</td>\n",
       "    </tr>\n",
       "    <tr>\n",
       "      <th>1438</th>\n",
       "      <td>-3.273055</td>\n",
       "    </tr>\n",
       "    <tr>\n",
       "      <th>1439</th>\n",
       "      <td>-3.571252</td>\n",
       "    </tr>\n",
       "  </tbody>\n",
       "</table>\n",
       "<p>1440 rows × 1 columns</p>\n",
       "</div>"
      ],
      "text/plain": [
       "          attr\n",
       "0     6.262665\n",
       "1     5.756770\n",
       "2     5.704384\n",
       "3     5.393598\n",
       "4     5.338710\n",
       "...        ...\n",
       "1435 -3.434742\n",
       "1436 -3.171979\n",
       "1437 -3.447606\n",
       "1438 -3.273055\n",
       "1439 -3.571252\n",
       "\n",
       "[1440 rows x 1 columns]"
      ]
     },
     "execution_count": 100,
     "metadata": {},
     "output_type": "execute_result"
    }
   ],
   "source": [
    "attr_df"
   ]
  },
  {
   "cell_type": "code",
   "execution_count": 101,
   "id": "77476471",
   "metadata": {},
   "outputs": [
    {
     "data": {
      "text/plain": [
       "<AxesSubplot: >"
      ]
     },
     "execution_count": 101,
     "metadata": {},
     "output_type": "execute_result"
    },
    {
     "data": {
      "image/png": "[encoded data removed]",
      "text/plain": [
       "<Figure size 640x480 with 1 Axes>"
      ]
     },
     "metadata": {},
     "output_type": "display_data"
    }
   ],
   "source": [
    "attr_df.plot()"
   ]
  },
  {
   "cell_type": "code",
   "execution_count": 105,
   "id": "8512a0eb",
   "metadata": {},
   "outputs": [
    {
     "data": {
      "text/plain": [
       "<AxesSubplot: >"
      ]
     },
     "execution_count": 105,
     "metadata": {},
     "output_type": "execute_result"
    },
    {
     "data": {
      "image/png": "[encoded data removed]",
      "text/plain": [
       "<Figure size 640x480 with 1 Axes>"
      ]
     },
     "metadata": {},
     "output_type": "display_data"
    }
   ],
   "source": [
    "data.iloc[-split-sequence_length:-split].plot() #X_test값의 plot"
   ]
  },
  {
   "cell_type": "markdown",
   "id": "cedb5abf",
   "metadata": {},
   "source": [
    "## Trouble1 X_test의 값에 따라서 gradient가 작용하는 바가 다르기 때문에 평균을 취하게 되면 attribution이 상쇄되게 된다."
   ]
  }
 ],
 "metadata": {
  "kernelspec": {
   "display_name": "sj_virtual",
   "language": "python",
   "name": "myvenv"
  },
  "language_info": {
   "codemirror_mode": {
    "name": "ipython",
    "version": 3
   },
   "file_extension": ".py",
   "mimetype": "text/x-python",
   "name": "python",
   "nbconvert_exporter": "python",
   "pygments_lexer": "ipython3",
   "version": "3.8.10"
  },
  "varInspector": {
   "cols": {
    "lenName": 16,
    "lenType": 16,
    "lenVar": 40
   },
   "kernels_config": {
    "python": {
     "delete_cmd_postfix": "",
     "delete_cmd_prefix": "del ",
     "library": "var_list.py",
     "varRefreshCmd": "print(var_dic_list())"
    },
    "r": {
     "delete_cmd_postfix": ") ",
     "delete_cmd_prefix": "rm(",
     "library": "var_list.r",
     "varRefreshCmd": "cat(var_dic_list()) "
    }
   },
   "types_to_exclude": [
    "module",
    "function",
    "builtin_function_or_method",
    "instance",
    "_Feature"
   ],
   "window_display": false
  }
 },
 "nbformat": 4,
 "nbformat_minor": 5
}
