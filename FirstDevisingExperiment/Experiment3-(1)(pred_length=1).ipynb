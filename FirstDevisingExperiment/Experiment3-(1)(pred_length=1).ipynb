{
 "cells": [
  {
   "cell_type": "code",
   "execution_count": 1,
   "id": "441d7404",
   "metadata": {},
   "outputs": [
    {
     "name": "stderr",
     "output_type": "stream",
     "text": [
      "/home/sjlee/sj_virtual/lib/python3.8/site-packages/tqdm/auto.py:22: TqdmWarning: IProgress not found. Please update jupyter and ipywidgets. See https://ipywidgets.readthedocs.io/en/stable/user_install.html\n",
      "  from .autonotebook import tqdm as notebook_tqdm\n"
     ]
    }
   ],
   "source": [
    "import numpy as np\n",
    "import pandas as pd\n",
    "import matplotlib.pyplot as plt\n",
    "import seaborn as sns\n",
    "import torch\n",
    "import torch.nn as nn\n",
    "import random\n",
    "from torch.utils.data import TensorDataset\n",
    "from torch.utils.data import DataLoader\n",
    "from pytorch_forecasting.metrics import SMAPE\n",
    "from captum.attr import IntegratedGradients,NoiseTunnel"
   ]
  },
  {
   "cell_type": "markdown",
   "id": "e3bd78bf",
   "metadata": {},
   "source": [
    "## 1. 모델 구성하기"
   ]
  },
  {
   "cell_type": "code",
   "execution_count": 2,
   "id": "3078b5ca",
   "metadata": {},
   "outputs": [],
   "source": [
    "data = pd.read_csv('./TrafficData/4-Copy1.csv')\n",
    "data = data['volumn']\n",
    "sequence_length = 1440\n",
    "pred_len = 1"
   ]
  },
  {
   "cell_type": "code",
   "execution_count": 3,
   "id": "6feb01fe",
   "metadata": {},
   "outputs": [],
   "source": [
    "from torch import FloatTensor as FloatTensor"
   ]
  },
  {
   "cell_type": "code",
   "execution_count": 4,
   "id": "70efae60",
   "metadata": {},
   "outputs": [],
   "source": [
    "def seq_data(x,sequence_length,pred_len):\n",
    "    seq_list = []\n",
    "    target_list = []\n",
    "    device = torch.device(\"cuda:0\")\n",
    "    for i in range(len(x)-sequence_length-pred_len):\n",
    "        seq_list.append(x.iloc[i:i+sequence_length].values)\n",
    "        target_list.append(x.iloc[i+sequence_length:i+sequence_length+pred_len].values)\n",
    "\n",
    "    return FloatTensor(seq_list).view(-1,1,sequence_length).to(device),FloatTensor(target_list).unsqueeze(1).view(-1,1,pred_len).to(device)"
   ]
  },
  {
   "cell_type": "code",
   "execution_count": 5,
   "id": "39fb21cf",
   "metadata": {},
   "outputs": [
    {
     "name": "stderr",
     "output_type": "stream",
     "text": [
      "/tmp/ipykernel_2436255/4291513198.py:9: UserWarning: Creating a tensor from a list of numpy.ndarrays is extremely slow. Please consider converting the list to a single numpy.ndarray with numpy.array() before converting to a tensor. (Triggered internally at ../torch/csrc/utils/tensor_new.cpp:230.)\n",
      "  return FloatTensor(seq_list).view(-1,1,sequence_length).to(device),FloatTensor(target_list).unsqueeze(1).view(-1,1,pred_len).to(device)\n"
     ]
    }
   ],
   "source": [
    "split = 10080\n",
    "x_train,y_train = seq_data(data.iloc[:-split],sequence_length,pred_len)"
   ]
  },
  {
   "cell_type": "code",
   "execution_count": 6,
   "id": "4c989b22",
   "metadata": {},
   "outputs": [],
   "source": [
    "batch_size = 64\n",
    "train_dataset = TensorDataset(x_train,y_train)\n",
    "training = DataLoader(train_dataset,batch_size= batch_size)"
   ]
  },
  {
   "cell_type": "code",
   "execution_count": 7,
   "id": "673cbb2b",
   "metadata": {},
   "outputs": [],
   "source": [
    "seed = 42"
   ]
  },
  {
   "cell_type": "code",
   "execution_count": 8,
   "id": "925912dd",
   "metadata": {},
   "outputs": [],
   "source": [
    "device = torch.device(\"cuda:0\")"
   ]
  },
  {
   "cell_type": "code",
   "execution_count": 9,
   "id": "d420bbcd",
   "metadata": {},
   "outputs": [],
   "source": [
    "X_test = torch.FloatTensor(data.iloc[-split-sequence_length:-split].values).to(device)\n",
    "# X_train의 마지막 인덱스에서 sequece_length만큼 뒤에 부분을 잘라오기\n",
    "X_test = X_test.view(1,1,sequence_length)"
   ]
  },
  {
   "cell_type": "code",
   "execution_count": 10,
   "id": "b66a98ae",
   "metadata": {},
   "outputs": [
    {
     "data": {
      "text/plain": [
       "tensor([[90520.]])"
      ]
     },
     "execution_count": 10,
     "metadata": {},
     "output_type": "execute_result"
    }
   ],
   "source": [
    "target = data.iloc[-split]\n",
    "target = FloatTensor([target]).view(-1,1)\n",
    "target"
   ]
  },
  {
   "cell_type": "code",
   "execution_count": 11,
   "id": "53d28a72",
   "metadata": {},
   "outputs": [],
   "source": [
    "# class Model(nn.Module):\n",
    "#     def __init__(self):\n",
    "#         super().__init__()\n",
    "#         self.seq_len = 1440\n",
    "#         self.pred_len = 1\n",
    "#         self.first_layer = nn.Linear(self.seq_len,self.pred_len)\n",
    "#         self.first_layer.weight = nn.Parameter((1/self.seq_len)*torch.ones([self.pred_len,self.seq_len]))\n",
    "#         self.weight_df = pd.DataFrame({\"weight\":self.first_layer.weight.cpu().detach().numpy().reshape(-1)})\n",
    "#         # weight update를 위한 데이터프레임 이를 사용해야지 인덱스가 바뀌는 문제를 고정된 인덱스로 해결 가능\n",
    "#     def forward(self,x):\n",
    "#         return self.first_layer(x) \n",
    "# #     def reset_forward(self,x,train_idx,prev_idx): # idx는 attribution이 높은 것들의 index 리스트\n",
    "# #         if train_idx == None: \n",
    "# #             return self.forward(x) # forward를 호출 클래스 내의 호출은 무조건 self를 붙여야 된다.\n",
    "# #         weight_tensor = self.first_layer.weight\n",
    "# # #         print(len(prev_idx),weight_tensor.size())\n",
    "# #         self.weight_df.iloc[prev_idx] = weight_tensor.cpu().detach().numpy().reshape(-1,1)\n",
    "# #         weight_arr = self.weight_df.iloc[train_idx].values.reshape(-1) # index에 해당하는 array만 뽑는다.\n",
    "# #         weight_tensor = torch.FloatTensor(weight_arr).view(self.pred_len,-1) # 해당하는 인덱스만 뽑은후 텐서화\n",
    "        \n",
    "# #         self.first_layer = nn.Linear(len(train_idx),self.pred_len)\n",
    "# #         self.first_layer.weight = nn.Parameter(weight_tensor)\n",
    "# #         self.first_layer.weight.requires_grad = True\n",
    "# #         self.first_layer.to(device)\n",
    "# #         return self.first_layer(x[:,:,train_idx]) # 새로 설정한 layer에 input을 집어넣음"
   ]
  },
  {
   "cell_type": "code",
   "execution_count": 12,
   "id": "959df14e",
   "metadata": {},
   "outputs": [],
   "source": [
    "class Model(nn.Module):\n",
    "    def __init__(self,train_index):\n",
    "        super().__init__()\n",
    "        self.seq_len = len(train_index)\n",
    "        self.pred_len = 1\n",
    "        self.train_index = train_index\n",
    "        self.first_layer = nn.Linear(self.seq_len,self.pred_len)\n",
    "        self.first_layer.weight = nn.Parameter((1/self.seq_len)*torch.ones([self.pred_len,self.seq_len]))\n",
    "    def forward(self,x):\n",
    "        return self.first_layer(x[:,:,self.train_index]) "
   ]
  },
  {
   "cell_type": "markdown",
   "id": "571bca13",
   "metadata": {},
   "source": [
    "weight를 뽑으면 순서대로 정렬 돼있을거임 "
   ]
  },
  {
   "cell_type": "code",
   "execution_count": 13,
   "id": "fc1a55d6",
   "metadata": {},
   "outputs": [],
   "source": [
    "random.seed(seed)\n",
    "np.random.seed(seed)\n",
    "torch.manual_seed(seed)\n",
    "train_index = np.arange(1440)\n",
    "model = Model(train_index).to(device)\n",
    "optimizer = torch.optim.Adam(model.parameters(), lr=1e-4)\n",
    "num_epochs = 100\n",
    "criterion = SMAPE()"
   ]
  },
  {
   "cell_type": "code",
   "execution_count": 14,
   "id": "0fc445a1",
   "metadata": {},
   "outputs": [],
   "source": [
    "n = len(training)"
   ]
  },
  {
   "cell_type": "code",
   "execution_count": 15,
   "id": "985ba242",
   "metadata": {},
   "outputs": [
    {
     "data": {
      "text/plain": [
       "torch.Size([1, 1, 1440])"
      ]
     },
     "execution_count": 15,
     "metadata": {},
     "output_type": "execute_result"
    }
   ],
   "source": [
    "X_test.size()"
   ]
  },
  {
   "cell_type": "markdown",
   "id": "c94b0494",
   "metadata": {},
   "source": [
    "### Full-Trained Model(M) 구성"
   ]
  },
  {
   "cell_type": "code",
   "execution_count": 16,
   "id": "031b49a2",
   "metadata": {},
   "outputs": [
    {
     "name": "stdout",
     "output_type": "stream",
     "text": [
      "Epoch [1]/[100] running accumulative loss across all batches: 42.193\n",
      "Epoch [21]/[100] running accumulative loss across all batches: 41.823\n",
      "Epoch [41]/[100] running accumulative loss across all batches: 42.617\n",
      "Epoch [61]/[100] running accumulative loss across all batches: 29.944\n",
      "Epoch [81]/[100] running accumulative loss across all batches: 38.356\n"
     ]
    }
   ],
   "source": [
    "random.seed(seed)\n",
    "np.random.seed(seed)\n",
    "torch.manual_seed(seed)\n",
    "for epoch in range(num_epochs):  # loop over the dataset multiple times\n",
    "    running_loss = 0.0\n",
    "    for inputs, labels in training:\n",
    "        # forward pass\n",
    "        inputs = inputs\n",
    "        outputs = model(inputs)\n",
    "        # defining loss\n",
    "        loss = criterion(outputs, labels)\n",
    "        # zero the parameter gradients\n",
    "        optimizer.zero_grad()\n",
    "        # computing gradients\n",
    "        loss.backward()\n",
    "        # accumulating running loss\n",
    "        running_loss += loss.item()\n",
    "        # updated weights based on computed gradients\n",
    "        optimizer.step()\n",
    "    if epoch % 20 == 0:    \n",
    "        print('Epoch [%d]/[%d] running accumulative loss across all batches: %.3f' %(epoch + 1, num_epochs, (running_loss/n)*100))\n",
    "    running_loss = 0.0"
   ]
  },
  {
   "cell_type": "code",
   "execution_count": 17,
   "id": "86697bf4",
   "metadata": {},
   "outputs": [
    {
     "data": {
      "text/plain": [
       "16.206350922584534"
      ]
     },
     "execution_count": 17,
     "metadata": {},
     "output_type": "execute_result"
    }
   ],
   "source": [
    "pred = model(X_test)\n",
    "pred= pred.cpu().detach().view(-1,1)\n",
    "result = criterion(pred,target).item()*100\n",
    "result"
   ]
  },
  {
   "cell_type": "code",
   "execution_count": 18,
   "id": "11f4d23c",
   "metadata": {},
   "outputs": [],
   "source": [
    "from sklearn.preprocessing import StandardScaler"
   ]
  },
  {
   "cell_type": "code",
   "execution_count": 19,
   "id": "ae6f8f61",
   "metadata": {},
   "outputs": [
    {
     "data": {
      "text/html": [
       "<div>\n",
       "<style scoped>\n",
       "    .dataframe tbody tr th:only-of-type {\n",
       "        vertical-align: middle;\n",
       "    }\n",
       "\n",
       "    .dataframe tbody tr th {\n",
       "        vertical-align: top;\n",
       "    }\n",
       "\n",
       "    .dataframe thead th {\n",
       "        text-align: right;\n",
       "    }\n",
       "</style>\n",
       "<table border=\"1\" class=\"dataframe\">\n",
       "  <thead>\n",
       "    <tr style=\"text-align: right;\">\n",
       "      <th></th>\n",
       "      <th>attr</th>\n",
       "    </tr>\n",
       "  </thead>\n",
       "  <tbody>\n",
       "    <tr>\n",
       "      <th>0</th>\n",
       "      <td>78.814694</td>\n",
       "    </tr>\n",
       "    <tr>\n",
       "      <th>1</th>\n",
       "      <td>-5.722514</td>\n",
       "    </tr>\n",
       "    <tr>\n",
       "      <th>2</th>\n",
       "      <td>133.683525</td>\n",
       "    </tr>\n",
       "    <tr>\n",
       "      <th>3</th>\n",
       "      <td>91.072364</td>\n",
       "    </tr>\n",
       "    <tr>\n",
       "      <th>4</th>\n",
       "      <td>165.484674</td>\n",
       "    </tr>\n",
       "    <tr>\n",
       "      <th>...</th>\n",
       "      <td>...</td>\n",
       "    </tr>\n",
       "    <tr>\n",
       "      <th>1435</th>\n",
       "      <td>1860.919755</td>\n",
       "    </tr>\n",
       "    <tr>\n",
       "      <th>1436</th>\n",
       "      <td>1924.544805</td>\n",
       "    </tr>\n",
       "    <tr>\n",
       "      <th>1437</th>\n",
       "      <td>2007.469950</td>\n",
       "    </tr>\n",
       "    <tr>\n",
       "      <th>1438</th>\n",
       "      <td>1993.231181</td>\n",
       "    </tr>\n",
       "    <tr>\n",
       "      <th>1439</th>\n",
       "      <td>2151.108688</td>\n",
       "    </tr>\n",
       "  </tbody>\n",
       "</table>\n",
       "<p>1440 rows × 1 columns</p>\n",
       "</div>"
      ],
      "text/plain": [
       "             attr\n",
       "0       78.814694\n",
       "1       -5.722514\n",
       "2      133.683525\n",
       "3       91.072364\n",
       "4      165.484674\n",
       "...           ...\n",
       "1435  1860.919755\n",
       "1436  1924.544805\n",
       "1437  2007.469950\n",
       "1438  1993.231181\n",
       "1439  2151.108688\n",
       "\n",
       "[1440 rows x 1 columns]"
      ]
     },
     "execution_count": 19,
     "metadata": {},
     "output_type": "execute_result"
    }
   ],
   "source": [
    "train_index = list(range(1440))\n",
    "ig = IntegratedGradients(model)\n",
    "nt_ig = NoiseTunnel(ig)\n",
    "nt_ig_attr_test = nt_ig.attribute(X_test[:,:,train_index])\n",
    "attr_df = pd.DataFrame({\"attr\":nt_ig_attr_test.cpu().numpy().reshape(-1)})\n",
    "attr_df"
   ]
  },
  {
   "cell_type": "markdown",
   "id": "2237c8fe",
   "metadata": {},
   "source": [
    "## Scaling"
   ]
  },
  {
   "cell_type": "code",
   "execution_count": 20,
   "id": "e56ae6a5",
   "metadata": {
    "scrolled": true
   },
   "outputs": [
    {
     "data": {
      "text/html": [
       "<div>\n",
       "<style scoped>\n",
       "    .dataframe tbody tr th:only-of-type {\n",
       "        vertical-align: middle;\n",
       "    }\n",
       "\n",
       "    .dataframe tbody tr th {\n",
       "        vertical-align: top;\n",
       "    }\n",
       "\n",
       "    .dataframe thead th {\n",
       "        text-align: right;\n",
       "    }\n",
       "</style>\n",
       "<table border=\"1\" class=\"dataframe\">\n",
       "  <thead>\n",
       "    <tr style=\"text-align: right;\">\n",
       "      <th></th>\n",
       "      <th>attr</th>\n",
       "    </tr>\n",
       "  </thead>\n",
       "  <tbody>\n",
       "    <tr>\n",
       "      <th>0</th>\n",
       "      <td>0.074121</td>\n",
       "    </tr>\n",
       "    <tr>\n",
       "      <th>1</th>\n",
       "      <td>-0.172791</td>\n",
       "    </tr>\n",
       "    <tr>\n",
       "      <th>2</th>\n",
       "      <td>0.234380</td>\n",
       "    </tr>\n",
       "    <tr>\n",
       "      <th>3</th>\n",
       "      <td>0.109923</td>\n",
       "    </tr>\n",
       "    <tr>\n",
       "      <th>4</th>\n",
       "      <td>0.327263</td>\n",
       "    </tr>\n",
       "    <tr>\n",
       "      <th>...</th>\n",
       "      <td>...</td>\n",
       "    </tr>\n",
       "    <tr>\n",
       "      <th>1435</th>\n",
       "      <td>5.279213</td>\n",
       "    </tr>\n",
       "    <tr>\n",
       "      <th>1436</th>\n",
       "      <td>5.465046</td>\n",
       "    </tr>\n",
       "    <tr>\n",
       "      <th>1437</th>\n",
       "      <td>5.707250</td>\n",
       "    </tr>\n",
       "    <tr>\n",
       "      <th>1438</th>\n",
       "      <td>5.665662</td>\n",
       "    </tr>\n",
       "    <tr>\n",
       "      <th>1439</th>\n",
       "      <td>6.126783</td>\n",
       "    </tr>\n",
       "  </tbody>\n",
       "</table>\n",
       "<p>1440 rows × 1 columns</p>\n",
       "</div>"
      ],
      "text/plain": [
       "          attr\n",
       "0     0.074121\n",
       "1    -0.172791\n",
       "2     0.234380\n",
       "3     0.109923\n",
       "4     0.327263\n",
       "...        ...\n",
       "1435  5.279213\n",
       "1436  5.465046\n",
       "1437  5.707250\n",
       "1438  5.665662\n",
       "1439  6.126783\n",
       "\n",
       "[1440 rows x 1 columns]"
      ]
     },
     "execution_count": 20,
     "metadata": {},
     "output_type": "execute_result"
    }
   ],
   "source": [
    "scaler = StandardScaler()\n",
    "attr_df = scaler.fit_transform(attr_df)\n",
    "attr_df = pd.DataFrame({\"attr\":attr_df.reshape(-1)})\n",
    "attr_df"
   ]
  },
  {
   "cell_type": "code",
   "execution_count": 21,
   "id": "6be20ea7",
   "metadata": {},
   "outputs": [
    {
     "data": {
      "text/html": [
       "<div>\n",
       "<style scoped>\n",
       "    .dataframe tbody tr th:only-of-type {\n",
       "        vertical-align: middle;\n",
       "    }\n",
       "\n",
       "    .dataframe tbody tr th {\n",
       "        vertical-align: top;\n",
       "    }\n",
       "\n",
       "    .dataframe thead th {\n",
       "        text-align: right;\n",
       "    }\n",
       "</style>\n",
       "<table border=\"1\" class=\"dataframe\">\n",
       "  <thead>\n",
       "    <tr style=\"text-align: right;\">\n",
       "      <th></th>\n",
       "      <th>attr</th>\n",
       "    </tr>\n",
       "  </thead>\n",
       "  <tbody>\n",
       "    <tr>\n",
       "      <th>count</th>\n",
       "      <td>1.440000e+03</td>\n",
       "    </tr>\n",
       "    <tr>\n",
       "      <th>mean</th>\n",
       "      <td>3.454027e-17</td>\n",
       "    </tr>\n",
       "    <tr>\n",
       "      <th>std</th>\n",
       "      <td>1.000347e+00</td>\n",
       "    </tr>\n",
       "    <tr>\n",
       "      <th>min</th>\n",
       "      <td>-7.387347e+00</td>\n",
       "    </tr>\n",
       "    <tr>\n",
       "      <th>25%</th>\n",
       "      <td>-3.980206e-01</td>\n",
       "    </tr>\n",
       "    <tr>\n",
       "      <th>50%</th>\n",
       "      <td>-7.418226e-02</td>\n",
       "    </tr>\n",
       "    <tr>\n",
       "      <th>75%</th>\n",
       "      <td>2.955323e-01</td>\n",
       "    </tr>\n",
       "    <tr>\n",
       "      <th>max</th>\n",
       "      <td>6.126783e+00</td>\n",
       "    </tr>\n",
       "  </tbody>\n",
       "</table>\n",
       "</div>"
      ],
      "text/plain": [
       "               attr\n",
       "count  1.440000e+03\n",
       "mean   3.454027e-17\n",
       "std    1.000347e+00\n",
       "min   -7.387347e+00\n",
       "25%   -3.980206e-01\n",
       "50%   -7.418226e-02\n",
       "75%    2.955323e-01\n",
       "max    6.126783e+00"
      ]
     },
     "execution_count": 21,
     "metadata": {},
     "output_type": "execute_result"
    }
   ],
   "source": [
    "attr_df.describe()"
   ]
  },
  {
   "cell_type": "markdown",
   "id": "516a428f",
   "metadata": {},
   "source": [
    "mean = 0이고 표준편차가 1인 분포로 변환"
   ]
  },
  {
   "cell_type": "markdown",
   "id": "d8606956",
   "metadata": {},
   "source": [
    "## HyperParameter를 0.01로 둔 이후에 (+)(-) H.P 범위 안에 들어있는 attribution을 삭제"
   ]
  },
  {
   "cell_type": "code",
   "execution_count": 22,
   "id": "b973355e",
   "metadata": {},
   "outputs": [
    {
     "data": {
      "text/plain": [
       "1258"
      ]
     },
     "execution_count": 22,
     "metadata": {},
     "output_type": "execute_result"
    }
   ],
   "source": [
    "hyper_parameter = 0.07 # \n",
    "train_index = list(attr_df[(attr_df['attr']>hyper_parameter) | (attr_df['attr']<-hyper_parameter)].index)\n",
    "len(train_index)"
   ]
  },
  {
   "cell_type": "code",
   "execution_count": 23,
   "id": "47ba8804",
   "metadata": {},
   "outputs": [
    {
     "data": {
      "text/plain": [
       "tensor([[[ 97152.,  93410.,  97749.,  ..., 103395.,  99170., 103273.]],\n",
       "\n",
       "        [[ 93410.,  97749.,  92393.,  ...,  99170., 103273.,  97323.]],\n",
       "\n",
       "        [[ 97749.,  92393.,  94468.,  ..., 103273.,  97323., 102155.]],\n",
       "\n",
       "        ...,\n",
       "\n",
       "        [[ 85870.,  82298.,  85843.,  ...,  91668.,  87325.,  91681.]],\n",
       "\n",
       "        [[ 82298.,  85843.,  85797.,  ...,  87325.,  91681.,  88167.]],\n",
       "\n",
       "        [[ 85843.,  85797.,  90281.,  ...,  91681.,  88167.,  89379.]]],\n",
       "       device='cuda:0')"
      ]
     },
     "execution_count": 23,
     "metadata": {},
     "output_type": "execute_result"
    }
   ],
   "source": [
    "inputs"
   ]
  },
  {
   "cell_type": "markdown",
   "id": "3b3458a0",
   "metadata": {},
   "source": [
    "## 해당하는 인덱스만을 사용하여서 모델 Fully-Training"
   ]
  },
  {
   "cell_type": "code",
   "execution_count": 24,
   "id": "b9523b65",
   "metadata": {},
   "outputs": [],
   "source": [
    "class Model(nn.Module):\n",
    "    def __init__(self,train_index):\n",
    "        super().__init__()\n",
    "        self.seq_len = len(train_index)\n",
    "        self.pred_len = 1\n",
    "        self.train_index = train_index\n",
    "        self.first_layer = nn.Linear(self.seq_len,self.pred_len)\n",
    "        self.first_layer.weight = nn.Parameter((1/self.seq_len)*torch.ones([self.pred_len,self.seq_len]))\n",
    "    def forward(self,x):\n",
    "        return self.first_layer(x[:,:,self.train_index]) "
   ]
  },
  {
   "cell_type": "code",
   "execution_count": 25,
   "id": "7b6dfdda",
   "metadata": {},
   "outputs": [],
   "source": [
    "random.seed(seed)\n",
    "np.random.seed(seed)\n",
    "torch.manual_seed(seed)\n",
    "model = Model(train_index).to(device)\n",
    "optimizer = torch.optim.Adam(model.parameters(), lr=1e-4)\n",
    "num_epochs = 100\n",
    "criterion = SMAPE()"
   ]
  },
  {
   "cell_type": "code",
   "execution_count": 26,
   "id": "4ca05a63",
   "metadata": {},
   "outputs": [
    {
     "name": "stdout",
     "output_type": "stream",
     "text": [
      "Epoch [1]/[100] running accumulative loss across all batches: 42.868\n",
      "Epoch [21]/[100] running accumulative loss across all batches: 42.129\n",
      "Epoch [41]/[100] running accumulative loss across all batches: 34.844\n",
      "Epoch [61]/[100] running accumulative loss across all batches: 31.493\n",
      "Epoch [81]/[100] running accumulative loss across all batches: 40.553\n"
     ]
    }
   ],
   "source": [
    "random.seed(seed)\n",
    "np.random.seed(seed)\n",
    "torch.manual_seed(seed)\n",
    "train_index = train_index\n",
    "for epoch in range(num_epochs):  # loop over the dataset multiple times\n",
    "    running_loss = 0.0\n",
    "    for inputs, labels in training:\n",
    "        # forward pass\n",
    "        inputs = inputs\n",
    "        \n",
    "        outputs = model(inputs)\n",
    "        # defining loss\n",
    "        loss = criterion(outputs, labels)\n",
    "        # zero the parameter gradients\n",
    "        optimizer.zero_grad()\n",
    "        # computing gradients\n",
    "        loss.backward()\n",
    "        # accumulating running loss\n",
    "        running_loss += loss.item()\n",
    "        # updated weights based on computed gradients\n",
    "        optimizer.step()\n",
    "    if epoch % 20 == 0:    \n",
    "        print('Epoch [%d]/[%d] running accumulative loss across all batches: %.3f' %(epoch + 1, num_epochs, (running_loss/n)*100))\n",
    "    running_loss = 0.0"
   ]
  },
  {
   "cell_type": "code",
   "execution_count": 27,
   "id": "76ae37e4",
   "metadata": {},
   "outputs": [
    {
     "data": {
      "text/plain": [
       "Model(\n",
       "  (first_layer): Linear(in_features=1258, out_features=1, bias=True)\n",
       ")"
      ]
     },
     "execution_count": 27,
     "metadata": {},
     "output_type": "execute_result"
    }
   ],
   "source": [
    "model"
   ]
  },
  {
   "cell_type": "code",
   "execution_count": 28,
   "id": "c5167a95",
   "metadata": {
    "scrolled": true
   },
   "outputs": [
    {
     "data": {
      "text/plain": [
       "0.732589652761817"
      ]
     },
     "execution_count": 28,
     "metadata": {},
     "output_type": "execute_result"
    }
   ],
   "source": [
    "pred = model(X_test)\n",
    "pred= pred.cpu().detach().view(-1,1)\n",
    "nine_result = criterion(pred,target).item()*100\n",
    "nine_result"
   ]
  },
  {
   "cell_type": "markdown",
   "id": "9ba949fe",
   "metadata": {},
   "source": [
    "### 1. 0.01 비율로 제거했을때: 22.309105098247528<br>\n",
    "**-> 아마도 쓸데없는 것들이 더  attribution을 얻었기 때문에 그럴 확률이 높다고 생각됨**<br>\n",
    "### 2. 0.07 비율로 제거했을때: 0.732589652761817   ????????????????????<br>\n",
    "**-> incomparable하게 좋은결과?**"
   ]
  },
  {
   "cell_type": "markdown",
   "id": "c4165af7",
   "metadata": {},
   "source": [
    "## Hyper-Parameter를 Grid-Search를 통해서 loss 탐색하기\n",
    "**수정(1)&rightarrow; K-Fold 교차검증은 적합하지 않은것 같기 때문에, 직접 훈련을 구성하여서 진행해보겠다**"
   ]
  },
  {
   "cell_type": "code",
   "execution_count": 29,
   "id": "deff69a3",
   "metadata": {},
   "outputs": [],
   "source": [
    "# from sklearn.model_selection import GridSearchCV\n",
    "# from sklearn.model_selection import KFold"
   ]
  },
  {
   "cell_type": "markdown",
   "id": "ef7b8ea5",
   "metadata": {},
   "source": [
    "#### GridSearch가 찾을 hyperparameter 찾기"
   ]
  },
  {
   "cell_type": "code",
   "execution_count": 30,
   "id": "6f38fb75",
   "metadata": {
    "scrolled": true
   },
   "outputs": [
    {
     "data": {
      "text/plain": [
       "100"
      ]
     },
     "execution_count": 30,
     "metadata": {},
     "output_type": "execute_result"
    }
   ],
   "source": [
    "index_list = []\n",
    "\n",
    "for hyper_parameter in np.arange(0.01,1.01,0.01):\n",
    "    append_idx = list(attr_df[(attr_df['attr']>hyper_parameter) | (attr_df['attr']<-hyper_parameter)].index)\n",
    "    index_list.append(append_idx)\n",
    "len(index_list) # train_index의 리스트"
   ]
  },
  {
   "cell_type": "code",
   "execution_count": 31,
   "id": "6b02bcbc",
   "metadata": {},
   "outputs": [],
   "source": [
    "# param_grid = {   \n",
    "#     'eraser' : index_list\n",
    "# }\n",
    "# estimator = Model()\n",
    "# kf = KFold(random_state=seed,n_)"
   ]
  },
  {
   "cell_type": "code",
   "execution_count": 32,
   "id": "808b597a",
   "metadata": {
    "scrolled": true
   },
   "outputs": [
    {
     "name": "stdout",
     "output_type": "stream",
     "text": [
      "0번째 모델 Training 완료 마지막 Epoch loss:45.270270076101625\n",
      "1번째 모델 Training 완료 마지막 Epoch loss:45.49980658263177\n",
      "2번째 모델 Training 완료 마지막 Epoch loss:38.23693875815267\n",
      "3번째 모델 Training 완료 마지막 Epoch loss:33.38233335106851\n",
      "4번째 모델 Training 완료 마지막 Epoch loss:31.77856541212613\n",
      "5번째 모델 Training 완료 마지막 Epoch loss:35.1335709923269\n",
      "6번째 모델 Training 완료 마지막 Epoch loss:34.97895356202411\n",
      "7번째 모델 Training 완료 마지막 Epoch loss:41.88427872842648\n",
      "8번째 모델 Training 완료 마지막 Epoch loss:37.29739608417187\n",
      "9번째 모델 Training 완료 마지막 Epoch loss:38.93856781352068\n",
      "10번째 모델 Training 완료 마지막 Epoch loss:27.572387404452627\n",
      "11번째 모델 Training 완료 마지막 Epoch loss:39.37022348421965\n",
      "12번째 모델 Training 완료 마지막 Epoch loss:37.374728203481325\n",
      "13번째 모델 Training 완료 마지막 Epoch loss:27.714299117367297\n",
      "14번째 모델 Training 완료 마지막 Epoch loss:31.06614783119027\n",
      "15번째 모델 Training 완료 마지막 Epoch loss:33.373337184192145\n",
      "16번째 모델 Training 완료 마지막 Epoch loss:35.44297510253213\n",
      "17번째 모델 Training 완료 마지막 Epoch loss:25.635830189153623\n",
      "18번째 모델 Training 완료 마지막 Epoch loss:32.65842841285342\n",
      "19번째 모델 Training 완료 마지막 Epoch loss:31.5687634407708\n",
      "20번째 모델 Training 완료 마지막 Epoch loss:27.123898462496836\n",
      "21번째 모델 Training 완료 마지막 Epoch loss:24.03356377100659\n",
      "22번째 모델 Training 완료 마지막 Epoch loss:25.202510928491428\n",
      "23번째 모델 Training 완료 마지막 Epoch loss:26.819565507287386\n",
      "24번째 모델 Training 완료 마지막 Epoch loss:25.67660742717856\n",
      "25번째 모델 Training 완료 마지막 Epoch loss:20.711921564973544\n",
      "26번째 모델 Training 완료 마지막 Epoch loss:26.35165104592463\n",
      "27번째 모델 Training 완료 마지막 Epoch loss:25.90121181821015\n",
      "28번째 모델 Training 완료 마지막 Epoch loss:31.103758732396585\n",
      "29번째 모델 Training 완료 마지막 Epoch loss:24.15727238458033\n",
      "30번째 모델 Training 완료 마지막 Epoch loss:22.55149823809304\n",
      "31번째 모델 Training 완료 마지막 Epoch loss:20.38474961501659\n",
      "32번째 모델 Training 완료 마지막 Epoch loss:18.75084206575058\n",
      "33번째 모델 Training 완료 마지막 Epoch loss:17.784885671990704\n",
      "34번째 모델 Training 완료 마지막 Epoch loss:23.178661623577995\n",
      "35번째 모델 Training 완료 마지막 Epoch loss:21.267337512625296\n",
      "36번째 모델 Training 완료 마지막 Epoch loss:22.144740820366227\n",
      "37번째 모델 Training 완료 마지막 Epoch loss:21.50011731107136\n",
      "38번째 모델 Training 완료 마지막 Epoch loss:22.796978287085473\n",
      "39번째 모델 Training 완료 마지막 Epoch loss:23.91614837628554\n",
      "40번째 모델 Training 완료 마지막 Epoch loss:21.102735620301008\n",
      "41번째 모델 Training 완료 마지막 Epoch loss:24.564254236250907\n",
      "42번째 모델 Training 완료 마지막 Epoch loss:16.388177878340862\n",
      "43번째 모델 Training 완료 마지막 Epoch loss:20.510771392548683\n",
      "44번째 모델 Training 완료 마지막 Epoch loss:18.594813504404275\n",
      "45번째 모델 Training 완료 마지막 Epoch loss:17.723636986104616\n",
      "46번째 모델 Training 완료 마지막 Epoch loss:19.086700075449613\n",
      "47번째 모델 Training 완료 마지막 Epoch loss:18.403574622619164\n",
      "48번째 모델 Training 완료 마지막 Epoch loss:16.27742881695174\n",
      "49번째 모델 Training 완료 마지막 Epoch loss:19.848189977537317\n",
      "50번째 모델 Training 완료 마지막 Epoch loss:18.089438618539404\n",
      "51번째 모델 Training 완료 마지막 Epoch loss:14.93232250039544\n",
      "52번째 모델 Training 완료 마지막 Epoch loss:16.42278144505989\n",
      "53번째 모델 Training 완료 마지막 Epoch loss:13.808261032137914\n",
      "54번째 모델 Training 완료 마지막 Epoch loss:13.256582364909978\n",
      "55번째 모델 Training 완료 마지막 Epoch loss:14.544612539074791\n",
      "56번째 모델 Training 완료 마지막 Epoch loss:14.852033819128524\n",
      "57번째 모델 Training 완료 마지막 Epoch loss:13.82594385802328\n",
      "58번째 모델 Training 완료 마지막 Epoch loss:15.296708314383627\n",
      "59번째 모델 Training 완료 마지막 Epoch loss:16.05319089787168\n",
      "60번째 모델 Training 완료 마지막 Epoch loss:14.759507618853213\n",
      "61번째 모델 Training 완료 마지막 Epoch loss:15.891321332446326\n",
      "62번째 모델 Training 완료 마지막 Epoch loss:10.946754691904742\n",
      "63번째 모델 Training 완료 마지막 Epoch loss:11.704949898836768\n",
      "64번째 모델 Training 완료 마지막 Epoch loss:14.320320353590857\n",
      "65번째 모델 Training 완료 마지막 Epoch loss:12.20116804312549\n",
      "66번째 모델 Training 완료 마지막 Epoch loss:12.844925018671516\n",
      "67번째 모델 Training 완료 마지막 Epoch loss:9.202303681696687\n",
      "68번째 모델 Training 완료 마지막 Epoch loss:11.238280092322519\n",
      "69번째 모델 Training 완료 마지막 Epoch loss:13.979207077411779\n",
      "70번째 모델 Training 완료 마지막 Epoch loss:13.766039569675051\n",
      "71번째 모델 Training 완료 마지막 Epoch loss:12.780475752236686\n",
      "72번째 모델 Training 완료 마지막 Epoch loss:14.113634406092846\n",
      "73번째 모델 Training 완료 마지막 Epoch loss:12.304876635730198\n",
      "74번째 모델 Training 완료 마지막 Epoch loss:12.364355980301118\n",
      "75번째 모델 Training 완료 마지막 Epoch loss:11.581125423838776\n",
      "76번째 모델 Training 완료 마지막 Epoch loss:12.39901377741143\n",
      "77번째 모델 Training 완료 마지막 Epoch loss:11.601896752672983\n",
      "78번째 모델 Training 완료 마지막 Epoch loss:12.482869142675163\n",
      "79번째 모델 Training 완료 마지막 Epoch loss:11.200155949254876\n",
      "80번째 모델 Training 완료 마지막 Epoch loss:10.298789473616074\n",
      "81번째 모델 Training 완료 마지막 Epoch loss:13.07567401036237\n",
      "82번째 모델 Training 완료 마지막 Epoch loss:10.698172100166852\n",
      "83번째 모델 Training 완료 마지막 Epoch loss:10.616316125188545\n",
      "84번째 모델 Training 완료 마지막 Epoch loss:11.926967169976333\n",
      "85번째 모델 Training 완료 마지막 Epoch loss:10.405220692350625\n",
      "86번째 모델 Training 완료 마지막 Epoch loss:10.516108954368839\n",
      "87번째 모델 Training 완료 마지막 Epoch loss:9.95293300746827\n",
      "88번째 모델 Training 완료 마지막 Epoch loss:10.403731658567335\n",
      "89번째 모델 Training 완료 마지막 Epoch loss:11.741285891898812\n",
      "90번째 모델 Training 완료 마지막 Epoch loss:10.329568891559736\n",
      "91번째 모델 Training 완료 마지막 Epoch loss:10.752908257053834\n",
      "92번째 모델 Training 완료 마지막 Epoch loss:10.555597947405598\n",
      "93번째 모델 Training 완료 마지막 Epoch loss:9.987975618797659\n",
      "94번째 모델 Training 완료 마지막 Epoch loss:9.921833606889454\n",
      "95번째 모델 Training 완료 마지막 Epoch loss:9.225280154017714\n",
      "96번째 모델 Training 완료 마지막 Epoch loss:10.195838794260172\n",
      "97번째 모델 Training 완료 마지막 Epoch loss:10.195838794260172\n",
      "98번째 모델 Training 완료 마지막 Epoch loss:10.567615355395441\n",
      "99번째 모델 Training 완료 마지막 Epoch loss:10.617182559821163\n"
     ]
    }
   ],
   "source": [
    "### 원래 난수가 선언된 위치\n",
    "cnt = 0\n",
    "out_list = []\n",
    "num_epochs = 100\n",
    "criterion = SMAPE()\n",
    "for idx in index_list: #0.01~1.00 100개의 index에 대해서 수행\n",
    "    random.seed(seed)\n",
    "    np.random.seed(seed)\n",
    "    torch.manual_seed(seed) # 난수 선언(원래는 cnt선언 위에 있었다)\n",
    "    \n",
    "    train_idx = idx\n",
    "    model = Model(train_idx).to(device) # 모델 초기화\n",
    "    optimizer = torch.optim.Adam(model.parameters(), lr=1e-4) # optimizer 초기화\n",
    "    for epoch in range(num_epochs):  # loop over the dataset multiple times\n",
    "        running_loss = 0.0\n",
    "        for inputs, labels in training:\n",
    "            # forward pass\n",
    "            inputs = inputs\n",
    "\n",
    "            outputs = model(inputs)\n",
    "            # defining loss\n",
    "            loss = criterion(outputs, labels)\n",
    "            # zero the parameter gradients\n",
    "            optimizer.zero_grad()\n",
    "            # computing gradients\n",
    "            loss.backward()\n",
    "            # accumulating running loss\n",
    "            running_loss += loss.item()\n",
    "            # updated weights based on computed gradients\n",
    "            optimizer.step()\n",
    "        if epoch == 99:    \n",
    "            print(f'{cnt}번째 모델 Training 완료 마지막 Epoch loss:{(running_loss/n)*100}')\n",
    "    cnt+=1\n",
    "    # 모델 Fully-Training 완료\n",
    "    pred = model(X_test)\n",
    "    pred= pred.cpu().detach().view(-1,1)\n",
    "    result = criterion(pred,target).item()*100\n",
    "    out_list.append(result)    "
   ]
  },
  {
   "cell_type": "code",
   "execution_count": 33,
   "id": "92c084ab",
   "metadata": {
    "scrolled": true
   },
   "outputs": [
    {
     "data": {
      "text/plain": [
       "<AxesSubplot: >"
      ]
     },
     "execution_count": 33,
     "metadata": {},
     "output_type": "execute_result"
    },
    {
     "data": {
      "image/png": "[encoded data removed]",
      "text/plain": [
       "<Figure size 640x480 with 1 Axes>"
      ]
     },
     "metadata": {},
     "output_type": "display_data"
    }
   ],
   "source": [
    "out_df = pd.DataFrame({\"out\":out_list})\n",
    "out_df.plot()"
   ]
  },
  {
   "cell_type": "markdown",
   "id": "e574bdff",
   "metadata": {},
   "source": [
    "### 최소값 찾기"
   ]
  },
  {
   "cell_type": "code",
   "execution_count": 34,
   "id": "7567eec2",
   "metadata": {},
   "outputs": [
    {
     "data": {
      "text/plain": [
       "out    0.73259\n",
       "Name: 6, dtype: float64"
      ]
     },
     "execution_count": 34,
     "metadata": {},
     "output_type": "execute_result"
    }
   ],
   "source": [
    "out_df.iloc[6]"
   ]
  },
  {
   "cell_type": "markdown",
   "id": "d833e6d4",
   "metadata": {},
   "source": [
    "### result 1 &rightarrow; out의 추이를 보면 일정한 loss처럼 일정하게 감소되는 것이 아닌 불규칙한 것을 확인할 수 있다.\n",
    "### result 2 &rightarrow; 위의 결과를 보면 난수에 따라서 결과값의 차이가 매우크다. 모델이 단순하기 때문에 그런건가?\n",
    "&rightarrow;&rightarrow; 모델 예측결과를 만들어낼때 수정전에는 cnt위에 선언됐었다\n",
    "### result 3 &rightarrow; 눈에 띄는 성능적 향상이 있음은 비교적 확실한 것으로 보인다."
   ]
  },
  {
   "cell_type": "markdown",
   "id": "aba60183",
   "metadata": {},
   "source": [
    "<font color = blue>**X_test는 실제로는 train_set중에 일부이다. 그렇다면 train-validation set으로 쪼개서 validation set으로 나눠서 성능측정을 해보자**</font>"
   ]
  }
 ],
 "metadata": {
  "kernelspec": {
   "display_name": "sj_virtual",
   "language": "python",
   "name": "myvenv"
  },
  "language_info": {
   "codemirror_mode": {
    "name": "ipython",
    "version": 3
   },
   "file_extension": ".py",
   "mimetype": "text/x-python",
   "name": "python",
   "nbconvert_exporter": "python",
   "pygments_lexer": "ipython3",
   "version": "3.8.10"
  },
  "varInspector": {
   "cols": {
    "lenName": 16,
    "lenType": 16,
    "lenVar": 40
   },
   "kernels_config": {
    "python": {
     "delete_cmd_postfix": "",
     "delete_cmd_prefix": "del ",
     "library": "var_list.py",
     "varRefreshCmd": "print(var_dic_list())"
    },
    "r": {
     "delete_cmd_postfix": ") ",
     "delete_cmd_prefix": "rm(",
     "library": "var_list.r",
     "varRefreshCmd": "cat(var_dic_list()) "
    }
   },
   "types_to_exclude": [
    "module",
    "function",
    "builtin_function_or_method",
    "instance",
    "_Feature"
   ],
   "window_display": false
  }
 },
 "nbformat": 4,
 "nbformat_minor": 5
}
